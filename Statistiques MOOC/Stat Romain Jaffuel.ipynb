{
 "cells": [
  {
   "cell_type": "code",
   "execution_count": 1,
   "metadata": {
    "vscode": {
     "languageId": "r"
    }
   },
   "outputs": [
    {
     "name": "stderr",
     "output_type": "stream",
     "text": [
      "\n",
      "Attachement du package : 'dplyr'\n",
      "\n",
      "\n",
      "Les objets suivants sont masqués depuis 'package:stats':\n",
      "\n",
      "    filter, lag\n",
      "\n",
      "\n",
      "Les objets suivants sont masqués depuis 'package:base':\n",
      "\n",
      "    intersect, setdiff, setequal, union\n",
      "\n",
      "\n",
      "\n",
      "Attachement du package : 'lubridate'\n",
      "\n",
      "\n",
      "Les objets suivants sont masqués depuis 'package:base':\n",
      "\n",
      "    date, intersect, setdiff, union\n",
      "\n",
      "\n",
      "Warning message:\n",
      "\"le package 'vcd' a été compilé avec la version R 4.4.2\"\n",
      "Le chargement a nécessité le package : grid\n",
      "\n"
     ]
    }
   ],
   "source": [
    "# Importing necessary libraries\n",
    "library(ggplot2)\n",
    "library(dplyr)\n",
    "library(tidyr)\n",
    "library(readr)\n",
    "library(lubridate)\n",
    "library(vcd)\n",
    "library(naniar)"
   ]
  },
  {
   "cell_type": "code",
   "execution_count": 2,
   "metadata": {
    "vscode": {
     "languageId": "r"
    }
   },
   "outputs": [
    {
     "name": "stderr",
     "output_type": "stream",
     "text": [
      "\u001b[1mRows: \u001b[22m\u001b[34m8986\u001b[39m \u001b[1mColumns: \u001b[22m\u001b[34m35\u001b[39m\n",
      "\u001b[36m──\u001b[39m \u001b[1mColumn specification\u001b[22m \u001b[36m────────────────────────────────────────────────────────\u001b[39m\n",
      "\u001b[1mDelimiter:\u001b[22m \",\"\n",
      "\u001b[31mchr\u001b[39m (25): Gender, Country, Diploma, Formation, CSP, How.heard, Exp.crea, Tem...\n",
      "\u001b[32mdbl\u001b[39m  (9): Student_ID, birth.year, Curiosity.MOOC, Certif.self.sat, Rencontre...\n",
      "\u001b[33mlgl\u001b[39m  (1): encad.diffic\n",
      "\n",
      "\u001b[36mℹ\u001b[39m Use `spec()` to retrieve the full column specification for this data.\n",
      "\u001b[36mℹ\u001b[39m Specify the column types or set `show_col_types = FALSE` to quiet this message.\n",
      "\u001b[1mRows: \u001b[22m\u001b[34m4078\u001b[39m \u001b[1mColumns: \u001b[22m\u001b[34m40\u001b[39m\n",
      "\u001b[36m──\u001b[39m \u001b[1mColumn specification\u001b[22m \u001b[36m────────────────────────────────────────────────────────\u001b[39m\n",
      "\u001b[1mDelimiter:\u001b[22m \",\"\n",
      "\u001b[31mchr\u001b[39m (28): Section, Gender, Country, Diploma, Formation, CSP, How.heard, Exp....\n",
      "\u001b[32mdbl\u001b[39m (11): Student_ID, Current.Score, Curiosity.MOOC, Certif.self.sat, Rencon...\n",
      "\u001b[32mnum\u001b[39m  (1): birth.year\n",
      "\n",
      "\u001b[36mℹ\u001b[39m Use `spec()` to retrieve the full column specification for this data.\n",
      "\u001b[36mℹ\u001b[39m Specify the column types or set `show_col_types = FALSE` to quiet this message.\n",
      "\u001b[1mRows: \u001b[22m\u001b[34m4233\u001b[39m \u001b[1mColumns: \u001b[22m\u001b[34m26\u001b[39m\n",
      "\u001b[36m──\u001b[39m \u001b[1mColumn specification\u001b[22m \u001b[36m────────────────────────────────────────────────────────\u001b[39m\n",
      "\u001b[1mDelimiter:\u001b[22m \",\"\n",
      "\u001b[31mchr\u001b[39m (18): Section, Gender, Country, Diploma, EMLYON.et, Formation, CSP, How....\n",
      "\u001b[32mdbl\u001b[39m  (8): Student_ID, Certif.bin, birth.year, Certif.self.sat, Certif.work, ...\n",
      "\n",
      "\u001b[36mℹ\u001b[39m Use `spec()` to retrieve the full column specification for this data.\n",
      "\u001b[36mℹ\u001b[39m Specify the column types or set `show_col_types = FALSE` to quiet this message.\n",
      "\u001b[1mRows: \u001b[22m\u001b[34m7965\u001b[39m \u001b[1mColumns: \u001b[22m\u001b[34m73\u001b[39m\n",
      "\u001b[36m──\u001b[39m \u001b[1mColumn specification\u001b[22m \u001b[36m────────────────────────────────────────────────────────\u001b[39m\n",
      "\u001b[1mDelimiter:\u001b[22m \",\"\n",
      "\u001b[32mdbl\u001b[39m (72): Student_ID, Exam.score, Exam.bin, Assignment.score, Assignment.bin...\n",
      "\u001b[33mlgl\u001b[39m  (1): Intro.MOOC\n",
      "\n",
      "\u001b[36mℹ\u001b[39m Use `spec()` to retrieve the full column specification for this data.\n",
      "\u001b[36mℹ\u001b[39m Specify the column types or set `show_col_types = FALSE` to quiet this message.\n",
      "\u001b[1mRows: \u001b[22m\u001b[34m3798\u001b[39m \u001b[1mColumns: \u001b[22m\u001b[34m74\u001b[39m\n",
      "\u001b[36m──\u001b[39m \u001b[1mColumn specification\u001b[22m \u001b[36m────────────────────────────────────────────────────────\u001b[39m\n",
      "\u001b[1mDelimiter:\u001b[22m \",\"\n",
      "\u001b[32mdbl\u001b[39m (73): Student_ID, Exam.score, Exam.bin, Assignment.score, Assignment.bin...\n",
      "\u001b[33mlgl\u001b[39m  (1): Intro.MOOC\n",
      "\n",
      "\u001b[36mℹ\u001b[39m Use `spec()` to retrieve the full column specification for this data.\n",
      "\u001b[36mℹ\u001b[39m Specify the column types or set `show_col_types = FALSE` to quiet this message.\n",
      "\u001b[1mRows: \u001b[22m\u001b[34m3883\u001b[39m \u001b[1mColumns: \u001b[22m\u001b[34m76\u001b[39m\n",
      "\u001b[36m──\u001b[39m \u001b[1mColumn specification\u001b[22m \u001b[36m────────────────────────────────────────────────────────\u001b[39m\n",
      "\u001b[1mDelimiter:\u001b[22m \",\"\n",
      "\u001b[32mdbl\u001b[39m (75): Student_ID, Exam.score, Exam.bin, Assignment.score, Assignment.bin...\n",
      "\u001b[33mlgl\u001b[39m  (1): Intro.MOOC\n",
      "\n",
      "\u001b[36mℹ\u001b[39m Use `spec()` to retrieve the full column specification for this data.\n",
      "\u001b[36mℹ\u001b[39m Specify the column types or set `show_col_types = FALSE` to quiet this message.\n"
     ]
    }
   ],
   "source": [
    "effec1 <- read_csv(\"Data//effec1.quest.compil.csv\")\n",
    "effec2 <- read_csv(\"Data//effec2.quest.compil.csv\")\n",
    "effec3 <- read_csv(\"Data//effec3.quest.compil.csv\")\n",
    "usages1 <- read_csv(\"Data//usages.effec1.csv\")\n",
    "usages2 <- read_csv(\"Data//usages.effec2.csv\")\n",
    "usages3 <- read_csv(\"Data//usages.effec3.csv\")"
   ]
  },
  {
   "cell_type": "code",
   "execution_count": 3,
   "metadata": {
    "vscode": {
     "languageId": "r"
    }
   },
   "outputs": [],
   "source": [
    "usages1 <- usages1 %>%\n",
    "    mutate(Video_total = rowSums(select(., c(\"S1.L1\", \"S1.L2\", \"S1.L3\", \"S1.L4\", \"S1.L5\", \"S1.L6\", \"S2.L1\", \"S2.L2\", \"S2.L3\", \"S2.L4\", \"S2.L5\", \"S2.L6\", \"S3.L1.1\", \"S3.L1.2\", \"S3.L2\", \"S3.L3\", \"S3.L4\", \"S3.L5\", \"S4.L1.1\", \"S4.L1.2\", \"S4.L2\", \"S4.L3\", \"S4.L4\", \"S4.L5\", \"S5.L1.1\", \"S5.L1.2\", \"S5.L2\", \"S5.L3\", \"S5.L4\"))))\n",
    "\n",
    "usages2 <- usages2 %>%\n",
    "    mutate(Video_total = rowSums(select(., c(\"S1.L1\", \"S1.L2\", \"S1.L3\", \"S1.L4\", \"S1.L5\", \"S1.L6\", \"S2.L1\", \"S2.L2\", \"S2.L3\", \"S2.L4\", \"S2.L5\", \"S2.L6\", \"S3.L1.1\", \"S3.L1.2\", \"S3.L2\", \"S3.L3\", \"S3.L4\", \"S3.L5\", \"S4.L1.1\", \"S4.L1.2\", \"S4.L2\", \"S4.L3\", \"S4.L4\", \"S4.L5\", \"S5.L1.1\", \"S5.L1.2\", \"S5.L2\", \"S5.L3\", \"S5.L4\"))))\n",
    "\n",
    "usages3 <- usages3 %>%\n",
    "    mutate(Video_total = rowSums(select(., c(\"S1.L1\", \"S1.L2\", \"S1.L3\", \"S1.L4\", \"S1.L5\", \"S1.L6\", \"S2.L1\", \"S2.L2\", \"S2.L3\", \"S2.L4\", \"S2.L5\", \"S2.L6\", \"S3.L1.1\", \"S3.L1.2\", \"S3.L2\", \"S3.L3\", \"S3.L4\", \"S3.L5\", \"S4.L1.1\", \"S4.L1.2\", \"S4.L2\", \"S4.L3\", \"S4.L4\", \"S4.L5\", \"S5.L1.1\", \"S5.L1.2\", \"S5.L2\", \"S5.L3\", \"S5.L4\"))))"
   ]
  },
  {
   "cell_type": "code",
   "execution_count": 4,
   "metadata": {
    "vscode": {
     "languageId": "r"
    }
   },
   "outputs": [],
   "source": [
    "# Nous vous fournissons des donn´ees sur des questionnaires et des logs issus de diff´erentes it´erations de diff´erents MOOC. Votre premi`ere mission correspond `a reconstituer une base de donn´ees rectangulaire avec tous les fragments que nous vous proposons. Par exemple, usages.effec.1 porte sur les logs de la premi`ere it´eration du MOOC Effectuation. Vous allez devoir utiliser des commandes comme merge (base), full-join, rbind ou rbind.fill (pour R), ou leurs ´equivalents 1 Python. Vous devez commencer par faire un ”column bind” pour lier les donn´ees de logs et les donn´ees de questionnaires pour une it´eration donn´ee.\n",
    "# Vous devez ensuite r´ealiser un ”row bind” pour rassembler les donn´ees issues de diff´erentes it´erations d’un MOOC donn´e. Avant la cr´eation de ce jeu de donn´ees global, cr´eez une colonne intitul´ee it´eration (avec mutate, etc.) pour garder en m´emoire le num´ero d’it´eration correspondant. Vous allez constater que les diff´erents jeux de donn´ees n’ont pas le mˆeme nombre de colonnes, car le nombre de vid´eos ou de quiz a ´evolu´e d’une it´eration `a l’autre. Vous allez ensuite simplifier le jeu de donn´ees, en ne conservant, comme variables issues des questionnaires, que les seuls ´el´ements que vous allez mobiliser dans les analyses (HDI, et genre). C’est la commande select dans dplyr.\n",
    "\n",
    "\n",
    "merged1 <- merge(effec1, usages1, by = \"Student_ID\")\n",
    "merged2 <- merge(effec2, usages2, by = \"Student_ID\")\n",
    "merged3 <- merge(effec3, usages3, by = \"Student_ID\")\n"
   ]
  },
  {
   "cell_type": "code",
   "execution_count": 5,
   "metadata": {
    "vscode": {
     "languageId": "r"
    }
   },
   "outputs": [],
   "source": [
    "merged1 <- merged1 %>% mutate(iteration = 1)\n",
    "merged2 <- merged2 %>% mutate(iteration = 2)\n",
    "merged3 <- merged3 %>% mutate(iteration = 3)"
   ]
  },
  {
   "cell_type": "code",
   "execution_count": 6,
   "metadata": {
    "vscode": {
     "languageId": "r"
    }
   },
   "outputs": [],
   "source": [
    "create_calculated_vars <- function(data) {\n",
    "  data %>%\n",
    "    mutate(\n",
    "      quizzes_completed = rowSums(select_if(., is.numeric) %>% select(starts_with(\"Quizz.\") & ends_with(\".bin\")), na.rm = TRUE)\n",
    "      \n",
    "    )\n",
    "}"
   ]
  },
  {
   "cell_type": "code",
   "execution_count": 7,
   "metadata": {
    "vscode": {
     "languageId": "r"
    }
   },
   "outputs": [],
   "source": [
    "merged1_modif <- create_calculated_vars(merged1)\n",
    "merged2_modif <- create_calculated_vars(merged2)\n",
    "merged3_modif <- create_calculated_vars(merged3)"
   ]
  },
  {
   "cell_type": "code",
   "execution_count": 8,
   "metadata": {
    "vscode": {
     "languageId": "r"
    }
   },
   "outputs": [
    {
     "name": "stderr",
     "output_type": "stream",
     "text": [
      "Warning message in FUN(X[[i]], ...):\n",
      "\"input string 5 is invalid UTF-8\"\n",
      "Warning message in FUN(X[[i]], ...):\n",
      "\"input string 9 is invalid UTF-8\"\n",
      "Warning message in FUN(X[[i]], ...):\n",
      "\"input string 5 is invalid UTF-8\"\n",
      "Warning message in FUN(X[[i]], ...):\n",
      "\"input string 9 is invalid UTF-8\"\n",
      "Warning message in FUN(X[[i]], ...):\n",
      "\"input string 5 is invalid UTF-8\"\n",
      "Warning message in FUN(X[[i]], ...):\n",
      "\"input string 9 is invalid UTF-8\"\n",
      "Warning message in FUN(X[[i]], ...):\n",
      "\"input string 5 is invalid UTF-8\"\n",
      "Warning message in FUN(X[[i]], ...):\n",
      "\"input string 6 is invalid UTF-8\"\n",
      "Warning message in FUN(X[[i]], ...):\n",
      "\"input string 7 is invalid UTF-8\"\n",
      "Warning message in FUN(X[[i]], ...):\n",
      "\"input string 9 is invalid UTF-8\"\n",
      "Warning message in FUN(X[[i]], ...):\n",
      "\"input string 5 is invalid UTF-8\"\n",
      "Warning message in FUN(X[[i]], ...):\n",
      "\"input string 6 is invalid UTF-8\"\n",
      "Warning message in FUN(X[[i]], ...):\n",
      "\"input string 7 is invalid UTF-8\"\n",
      "Warning message in FUN(X[[i]], ...):\n",
      "\"input string 9 is invalid UTF-8\"\n",
      "Warning message in FUN(X[[i]], ...):\n",
      "\"input string 5 is invalid UTF-8\"\n",
      "Warning message in FUN(X[[i]], ...):\n",
      "\"input string 6 is invalid UTF-8\"\n",
      "Warning message in FUN(X[[i]], ...):\n",
      "\"input string 7 is invalid UTF-8\"\n",
      "Warning message in FUN(X[[i]], ...):\n",
      "\"input string 9 is invalid UTF-8\"\n",
      "Warning message in FUN(X[[i]], ...):\n",
      "\"input string 5 is invalid UTF-8\"\n",
      "Warning message in FUN(X[[i]], ...):\n",
      "\"input string 7 is invalid UTF-8\"\n",
      "Warning message in FUN(X[[i]], ...):\n",
      "\"input string 9 is invalid UTF-8\"\n",
      "Warning message in FUN(X[[i]], ...):\n",
      "\"input string 5 is invalid UTF-8\"\n",
      "Warning message in FUN(X[[i]], ...):\n",
      "\"input string 7 is invalid UTF-8\"\n",
      "Warning message in FUN(X[[i]], ...):\n",
      "\"input string 9 is invalid UTF-8\"\n",
      "Warning message in FUN(X[[i]], ...):\n",
      "\"input string 5 is invalid UTF-8\"\n",
      "Warning message in FUN(X[[i]], ...):\n",
      "\"input string 7 is invalid UTF-8\"\n",
      "Warning message in FUN(X[[i]], ...):\n",
      "\"input string 9 is invalid UTF-8\"\n",
      "Warning message in FUN(X[[i]], ...):\n",
      "\"input string 5 is invalid UTF-8\"\n",
      "Warning message in FUN(X[[i]], ...):\n",
      "\"input string 6 is invalid UTF-8\"\n",
      "Warning message in FUN(X[[i]], ...):\n",
      "\"input string 9 is invalid UTF-8\"\n",
      "Warning message in FUN(X[[i]], ...):\n",
      "\"input string 5 is invalid UTF-8\"\n",
      "Warning message in FUN(X[[i]], ...):\n",
      "\"input string 6 is invalid UTF-8\"\n",
      "Warning message in FUN(X[[i]], ...):\n",
      "\"input string 9 is invalid UTF-8\"\n",
      "Warning message in FUN(X[[i]], ...):\n",
      "\"input string 5 is invalid UTF-8\"\n",
      "Warning message in FUN(X[[i]], ...):\n",
      "\"input string 6 is invalid UTF-8\"\n",
      "Warning message in FUN(X[[i]], ...):\n",
      "\"input string 9 is invalid UTF-8\"\n",
      "Warning message in FUN(X[[i]], ...):\n",
      "\"input string 5 is invalid UTF-8\"\n",
      "Warning message in FUN(X[[i]], ...):\n",
      "\"input string 9 is invalid UTF-8\"\n",
      "Warning message in FUN(X[[i]], ...):\n",
      "\"input string 5 is invalid UTF-8\"\n",
      "Warning message in FUN(X[[i]], ...):\n",
      "\"input string 9 is invalid UTF-8\"\n",
      "Warning message in FUN(X[[i]], ...):\n",
      "\"input string 5 is invalid UTF-8\"\n",
      "Warning message in FUN(X[[i]], ...):\n",
      "\"input string 9 is invalid UTF-8\"\n",
      "Warning message in FUN(X[[i]], ...):\n",
      "\"input string 5 is invalid UTF-8\"\n",
      "Warning message in FUN(X[[i]], ...):\n",
      "\"input string 6 is invalid UTF-8\"\n",
      "Warning message in FUN(X[[i]], ...):\n",
      "\"input string 7 is invalid UTF-8\"\n",
      "Warning message in FUN(X[[i]], ...):\n",
      "\"input string 8 is invalid UTF-8\"\n",
      "Warning message in FUN(X[[i]], ...):\n",
      "\"input string 9 is invalid UTF-8\"\n",
      "Warning message in FUN(X[[i]], ...):\n",
      "\"input string 5 is invalid UTF-8\"\n",
      "Warning message in FUN(X[[i]], ...):\n",
      "\"input string 6 is invalid UTF-8\"\n",
      "Warning message in FUN(X[[i]], ...):\n",
      "\"input string 7 is invalid UTF-8\"\n",
      "Warning message in FUN(X[[i]], ...):\n",
      "\"input string 8 is invalid UTF-8\"\n",
      "Warning message in FUN(X[[i]], ...):\n",
      "\"input string 9 is invalid UTF-8\"\n",
      "Warning message in FUN(X[[i]], ...):\n",
      "\"input string 5 is invalid UTF-8\"\n",
      "Warning message in FUN(X[[i]], ...):\n",
      "\"input string 6 is invalid UTF-8\"\n",
      "Warning message in FUN(X[[i]], ...):\n",
      "\"input string 7 is invalid UTF-8\"\n",
      "Warning message in FUN(X[[i]], ...):\n",
      "\"input string 8 is invalid UTF-8\"\n",
      "Warning message in FUN(X[[i]], ...):\n",
      "\"input string 9 is invalid UTF-8\"\n",
      "Warning message in FUN(X[[i]], ...):\n",
      "\"input string 5 is invalid UTF-8\"\n",
      "Warning message in FUN(X[[i]], ...):\n",
      "\"input string 9 is invalid UTF-8\"\n",
      "Warning message in FUN(X[[i]], ...):\n",
      "\"input string 5 is invalid UTF-8\"\n",
      "Warning message in FUN(X[[i]], ...):\n",
      "\"input string 9 is invalid UTF-8\"\n",
      "Warning message in FUN(X[[i]], ...):\n",
      "\"input string 5 is invalid UTF-8\"\n",
      "Warning message in FUN(X[[i]], ...):\n",
      "\"input string 9 is invalid UTF-8\"\n",
      "Warning message in FUN(X[[i]], ...):\n",
      "\"input string 5 is invalid UTF-8\"\n",
      "Warning message in FUN(X[[i]], ...):\n",
      "\"input string 6 is invalid UTF-8\"\n",
      "Warning message in FUN(X[[i]], ...):\n",
      "\"input string 7 is invalid UTF-8\"\n",
      "Warning message in FUN(X[[i]], ...):\n",
      "\"input string 9 is invalid UTF-8\"\n",
      "Warning message in FUN(X[[i]], ...):\n",
      "\"input string 5 is invalid UTF-8\"\n",
      "Warning message in FUN(X[[i]], ...):\n",
      "\"input string 6 is invalid UTF-8\"\n",
      "Warning message in FUN(X[[i]], ...):\n",
      "\"input string 7 is invalid UTF-8\"\n",
      "Warning message in FUN(X[[i]], ...):\n",
      "\"input string 9 is invalid UTF-8\"\n",
      "Warning message in FUN(X[[i]], ...):\n",
      "\"input string 5 is invalid UTF-8\"\n",
      "Warning message in FUN(X[[i]], ...):\n",
      "\"input string 6 is invalid UTF-8\"\n",
      "Warning message in FUN(X[[i]], ...):\n",
      "\"input string 7 is invalid UTF-8\"\n",
      "Warning message in FUN(X[[i]], ...):\n",
      "\"input string 9 is invalid UTF-8\"\n",
      "Warning message in FUN(X[[i]], ...):\n",
      "\"input string 5 is invalid UTF-8\"\n",
      "Warning message in FUN(X[[i]], ...):\n",
      "\"input string 9 is invalid UTF-8\"\n",
      "Warning message in FUN(X[[i]], ...):\n",
      "\"input string 5 is invalid UTF-8\"\n",
      "Warning message in FUN(X[[i]], ...):\n",
      "\"input string 9 is invalid UTF-8\"\n",
      "Warning message in FUN(X[[i]], ...):\n",
      "\"input string 5 is invalid UTF-8\"\n",
      "Warning message in FUN(X[[i]], ...):\n",
      "\"input string 9 is invalid UTF-8\"\n",
      "Warning message in FUN(X[[i]], ...):\n",
      "\"input string 5 is invalid UTF-8\"\n",
      "Warning message in FUN(X[[i]], ...):\n",
      "\"input string 8 is invalid UTF-8\"\n",
      "Warning message in FUN(X[[i]], ...):\n",
      "\"input string 9 is invalid UTF-8\"\n",
      "Warning message in FUN(X[[i]], ...):\n",
      "\"input string 5 is invalid UTF-8\"\n",
      "Warning message in FUN(X[[i]], ...):\n",
      "\"input string 8 is invalid UTF-8\"\n",
      "Warning message in FUN(X[[i]], ...):\n",
      "\"input string 9 is invalid UTF-8\"\n",
      "Warning message in FUN(X[[i]], ...):\n",
      "\"input string 5 is invalid UTF-8\"\n",
      "Warning message in FUN(X[[i]], ...):\n",
      "\"input string 8 is invalid UTF-8\"\n",
      "Warning message in FUN(X[[i]], ...):\n",
      "\"input string 9 is invalid UTF-8\"\n",
      "Warning message in FUN(X[[i]], ...):\n",
      "\"input string 5 is invalid UTF-8\"\n",
      "Warning message in FUN(X[[i]], ...):\n",
      "\"input string 8 is invalid UTF-8\"\n",
      "Warning message in FUN(X[[i]], ...):\n",
      "\"input string 9 is invalid UTF-8\"\n",
      "Warning message in FUN(X[[i]], ...):\n",
      "\"input string 5 is invalid UTF-8\"\n",
      "Warning message in FUN(X[[i]], ...):\n",
      "\"input string 8 is invalid UTF-8\"\n",
      "Warning message in FUN(X[[i]], ...):\n",
      "\"input string 9 is invalid UTF-8\"\n",
      "Warning message in FUN(X[[i]], ...):\n",
      "\"input string 5 is invalid UTF-8\"\n",
      "Warning message in FUN(X[[i]], ...):\n",
      "\"input string 8 is invalid UTF-8\"\n",
      "Warning message in FUN(X[[i]], ...):\n",
      "\"input string 9 is invalid UTF-8\"\n",
      "Warning message in FUN(X[[i]], ...):\n",
      "\"input string 5 is invalid UTF-8\"\n",
      "Warning message in FUN(X[[i]], ...):\n",
      "\"input string 6 is invalid UTF-8\"\n",
      "Warning message in FUN(X[[i]], ...):\n",
      "\"input string 9 is invalid UTF-8\"\n",
      "Warning message in FUN(X[[i]], ...):\n",
      "\"input string 5 is invalid UTF-8\"\n",
      "Warning message in FUN(X[[i]], ...):\n",
      "\"input string 6 is invalid UTF-8\"\n",
      "Warning message in FUN(X[[i]], ...):\n",
      "\"input string 9 is invalid UTF-8\"\n",
      "Warning message in FUN(X[[i]], ...):\n",
      "\"input string 5 is invalid UTF-8\"\n",
      "Warning message in FUN(X[[i]], ...):\n",
      "\"input string 6 is invalid UTF-8\"\n",
      "Warning message in FUN(X[[i]], ...):\n",
      "\"input string 9 is invalid UTF-8\"\n",
      "ERROR while rich displaying an object: Error in gsub(chr, html_specials[[chr]], text, fixed = TRUE): input string 5 is invalid UTF-8\n",
      "\n",
      "Traceback:\n",
      "1. tryCatch(withCallingHandlers({\n",
      " .     if (!mime %in% names(repr::mime2repr)) \n",
      " .         stop(\"No repr_* for mimetype \", mime, \" in repr::mime2repr\")\n",
      " .     rpr <- repr::mime2repr[[mime]](obj)\n",
      " .     if (is.null(rpr)) \n",
      " .         return(NULL)\n",
      " .     prepare_content(is.raw(rpr), rpr)\n",
      " . }, error = error_handler), error = outer_handler)\n",
      "2. tryCatchList(expr, classes, parentenv, handlers)\n",
      "3. tryCatchOne(expr, names, parentenv, handlers[[1L]])\n",
      "4. doTryCatch(return(expr), name, parentenv, handler)\n",
      "5. withCallingHandlers({\n",
      " .     if (!mime %in% names(repr::mime2repr)) \n",
      " .         stop(\"No repr_* for mimetype \", mime, \" in repr::mime2repr\")\n",
      " .     rpr <- repr::mime2repr[[mime]](obj)\n",
      " .     if (is.null(rpr)) \n",
      " .         return(NULL)\n",
      " .     prepare_content(is.raw(rpr), rpr)\n",
      " . }, error = error_handler)\n",
      "6. repr::mime2repr[[mime]](obj)\n",
      "7. repr_markdown.data.frame(obj)\n",
      "8. repr_matrix_generic(obj, \"\\n%s\\n\\n%s%s\\n\", sprintf(\"|%%s\\n|%s|\\n\", \n",
      " .     underline), NULL, \" <!--/--> |\", \" %s |\", \"%s\", \"|%s\\n\", \n",
      " .     \" %s |\", \" %s |\", escape_fun = markdown_escape, rows = rows, \n",
      " .     cols = cols, ...)\n",
      "9. lapply(seq_len(nrow(x)), function(r) {\n",
      " .     row <- escape_fun(slice_row(x, r))\n",
      " .     cells <- sprintf(cell, row)\n",
      " .     if (has_rownames) {\n",
      " .         row_head <- sprintf(row_head, escape_fun(rownames(x)[[r]]))\n",
      " .         cells <- c(row_head, cells)\n",
      " .     }\n",
      " .     sprintf(row_wrap, paste(cells, collapse = \"\"))\n",
      " . })\n",
      "10. FUN(X[[i]], ...)\n",
      "11. escape_fun(slice_row(x, r))\n",
      "12. html_escape(values, do_spaces = FALSE)\n",
      "13. gsub(chr, html_specials[[chr]], text, fixed = TRUE)\n",
      "Warning message in FUN(X[[i]], ...):\n",
      "\"input string 5 is invalid UTF-8\"\n",
      "Warning message in FUN(X[[i]], ...):\n",
      "\"input string 9 is invalid UTF-8\"\n",
      "Warning message in FUN(X[[i]], ...):\n",
      "\"input string 5 is invalid UTF-8\"\n",
      "Warning message in FUN(X[[i]], ...):\n",
      "\"input string 9 is invalid UTF-8\"\n",
      "Warning message in FUN(X[[i]], ...):\n",
      "\"input string 5 is invalid UTF-8\"\n",
      "Warning message in FUN(X[[i]], ...):\n",
      "\"input string 9 is invalid UTF-8\"\n",
      "Warning message in FUN(X[[i]], ...):\n",
      "\"input string 5 is invalid UTF-8\"\n",
      "Warning message in FUN(X[[i]], ...):\n",
      "\"input string 9 is invalid UTF-8\"\n",
      "Warning message in FUN(X[[i]], ...):\n",
      "\"input string 5 is invalid UTF-8\"\n",
      "Warning message in FUN(X[[i]], ...):\n",
      "\"input string 9 is invalid UTF-8\"\n",
      "Warning message in FUN(X[[i]], ...):\n",
      "\"input string 5 is invalid UTF-8\"\n",
      "Warning message in FUN(X[[i]], ...):\n",
      "\"input string 9 is invalid UTF-8\"\n",
      "Warning message in FUN(X[[i]], ...):\n",
      "\"input string 5 is invalid UTF-8\"\n",
      "Warning message in FUN(X[[i]], ...):\n",
      "\"input string 9 is invalid UTF-8\"\n",
      "Warning message in FUN(X[[i]], ...):\n",
      "\"input string 5 is invalid UTF-8\"\n",
      "Warning message in FUN(X[[i]], ...):\n",
      "\"input string 9 is invalid UTF-8\"\n",
      "Warning message in FUN(X[[i]], ...):\n",
      "\"input string 5 is invalid UTF-8\"\n",
      "Warning message in FUN(X[[i]], ...):\n",
      "\"input string 9 is invalid UTF-8\"\n",
      "Warning message in FUN(X[[i]], ...):\n",
      "\"input string 5 is invalid UTF-8\"\n",
      "Warning message in FUN(X[[i]], ...):\n",
      "\"input string 9 is invalid UTF-8\"\n",
      "Warning message in FUN(X[[i]], ...):\n",
      "\"input string 5 is invalid UTF-8\"\n",
      "Warning message in FUN(X[[i]], ...):\n",
      "\"input string 9 is invalid UTF-8\"\n",
      "Warning message in FUN(X[[i]], ...):\n",
      "\"input string 5 is invalid UTF-8\"\n",
      "Warning message in FUN(X[[i]], ...):\n",
      "\"input string 9 is invalid UTF-8\"\n",
      "Warning message in FUN(X[[i]], ...):\n",
      "\"input string 5 is invalid UTF-8\"\n",
      "Warning message in FUN(X[[i]], ...):\n",
      "\"input string 9 is invalid UTF-8\"\n",
      "ERROR while rich displaying an object: Error in gsub(chr, latex_specials[[chr]], text, fixed = TRUE): input string 5 is invalid UTF-8\n",
      "\n",
      "Traceback:\n",
      "1. tryCatch(withCallingHandlers({\n",
      " .     if (!mime %in% names(repr::mime2repr)) \n",
      " .         stop(\"No repr_* for mimetype \", mime, \" in repr::mime2repr\")\n",
      " .     rpr <- repr::mime2repr[[mime]](obj)\n",
      " .     if (is.null(rpr)) \n",
      " .         return(NULL)\n",
      " .     prepare_content(is.raw(rpr), rpr)\n",
      " . }, error = error_handler), error = outer_handler)\n",
      "2. tryCatchList(expr, classes, parentenv, handlers)\n",
      "3. tryCatchOne(expr, names, parentenv, handlers[[1L]])\n",
      "4. doTryCatch(return(expr), name, parentenv, handler)\n",
      "5. withCallingHandlers({\n",
      " .     if (!mime %in% names(repr::mime2repr)) \n",
      " .         stop(\"No repr_* for mimetype \", mime, \" in repr::mime2repr\")\n",
      " .     rpr <- repr::mime2repr[[mime]](obj)\n",
      " .     if (is.null(rpr)) \n",
      " .         return(NULL)\n",
      " .     prepare_content(is.raw(rpr), rpr)\n",
      " . }, error = error_handler)\n",
      "6. repr::mime2repr[[mime]](obj)\n",
      "7. repr_latex.data.frame(obj)\n",
      "8. repr_matrix_generic(obj, sprintf(\"%%s\\n\\\\begin{tabular}{%s}\\n%%s%%s\\\\end{tabular}\\n\", \n",
      " .     cols_spec), \"%s\\\\hline\\n\", \"%s\\\\\\\\\\n\", \"  &\", \" %s &\", \"%s\", \n",
      " .     \"\\t%s\\\\\\\\\\n\", \"%s &\", \" %s &\", escape_fun = latex_escape_vec, \n",
      " .     rows = rows, cols = cols, ...)\n",
      "9. lapply(seq_len(nrow(x)), function(r) {\n",
      " .     row <- escape_fun(slice_row(x, r))\n",
      " .     cells <- sprintf(cell, row)\n",
      " .     if (has_rownames) {\n",
      " .         row_head <- sprintf(row_head, escape_fun(rownames(x)[[r]]))\n",
      " .         cells <- c(row_head, cells)\n",
      " .     }\n",
      " .     sprintf(row_wrap, paste(cells, collapse = \"\"))\n",
      " . })\n",
      "10. FUN(X[[i]], ...)\n",
      "11. escape_fun(slice_row(x, r))\n",
      "12. .escape_vec(vec, \"latex\")\n",
      "13. escape_specials(vec)\n",
      "14. gsub(chr, latex_specials[[chr]], text, fixed = TRUE)\n",
      "Warning message in grepl(\"<html.*>\", data[[\"text/html\"]], ignore.case = TRUE):\n",
      "\"unable to translate '<table class=\"dataframe\">\n",
      "<caption>A data.frame: 20 × 110</caption>\n",
      "<thead>\n",
      "\t<tr><th></th><th scope=col>Student_ID</th><th scope=col>Gender</th><th scope=col>birth.year</th><th scope=col>Country</th><th scope=col>Diploma</th><th scope=col>Formation</t...' to a wide string\"\n",
      "Warning message in grepl(\"<html.*>\", data[[\"text/html\"]], ignore.case = TRUE):\n",
      "\"input string 1 is invalid\"\n"
     ]
    },
    {
     "data": {
      "text/html": [
       "<table class=\"dataframe\">\n",
       "<caption>A data.frame: 20 × 110</caption>\n",
       "<thead>\n",
       "\t<tr><th></th><th scope=col>Student_ID</th><th scope=col>Gender</th><th scope=col>birth.year</th><th scope=col>Country</th><th scope=col>Diploma</th><th scope=col>Formation</th><th scope=col>CSP</th><th scope=col>How.heard</th><th scope=col>Exp.crea</th><th scope=col>Curiosity.MOOC</th><th scope=col>⋯</th><th scope=col>view.forum.4.2</th><th scope=col>Post.forum.5</th><th scope=col>Post.forum.5.2</th><th scope=col>view.forum.5</th><th scope=col>view.forum.5.2</th><th scope=col>last.video</th><th scope=col>last.quizz</th><th scope=col>Video_total</th><th scope=col>iteration</th><th scope=col>quizzes_completed</th></tr>\n",
       "\t<tr><th></th><th scope=col>&lt;dbl&gt;</th><th scope=col>&lt;chr&gt;</th><th scope=col>&lt;dbl&gt;</th><th scope=col>&lt;chr&gt;</th><th scope=col>&lt;chr&gt;</th><th scope=col>&lt;chr&gt;</th><th scope=col>&lt;chr&gt;</th><th scope=col>&lt;chr&gt;</th><th scope=col>&lt;chr&gt;</th><th scope=col>&lt;dbl&gt;</th><th scope=col>⋯</th><th scope=col>&lt;dbl&gt;</th><th scope=col>&lt;dbl&gt;</th><th scope=col>&lt;dbl&gt;</th><th scope=col>&lt;dbl&gt;</th><th scope=col>&lt;dbl&gt;</th><th scope=col>&lt;dbl&gt;</th><th scope=col>&lt;dbl&gt;</th><th scope=col>&lt;dbl&gt;</th><th scope=col>&lt;dbl&gt;</th><th scope=col>&lt;dbl&gt;</th></tr>\n",
       "</thead>\n",
       "<tbody>\n",
       "\t<tr><th scope=row>1</th><td> 28</td><td>NA       </td><td>  NA</td><td>NA     </td><td>NA                                     </td><td>NA                                                                         </td><td>NA                                          </td><td>NA                                            </td><td>NA                                                                                                                               </td><td>NA</td><td>⋯</td><td>0</td><td>0</td><td>0</td><td>0</td><td>0</td><td> 1</td><td>0</td><td> 0</td><td>1</td><td>0</td></tr>\n",
       "\t<tr><th scope=row>2</th><td> 36</td><td>NA       </td><td>  NA</td><td>NA     </td><td>NA                                     </td><td>NA                                                                         </td><td>NA                                          </td><td>NA                                            </td><td>NA                                                                                                                               </td><td>NA</td><td>⋯</td><td>0</td><td>0</td><td>0</td><td>0</td><td>0</td><td> 0</td><td>0</td><td> 0</td><td>1</td><td>0</td></tr>\n",
       "\t<tr><th scope=row>3</th><td> 45</td><td>une femme</td><td>1956</td><td>France </td><td>Bac+8 (Doctorat ou �quivalent)      </td><td>Sciences naturelles (Agronomie\\, biologie\\, physique\\, chimie\\, etc)   </td><td>Cadres et professions intellectuelles       </td><td>par une communication de Unow                 </td><td>Je n'ai aucune exp�rience en cr�ation d'entreprise,J'accompagne des cr�ateurs d'entreprises dans le cadre de mon travail</td><td> 1</td><td>⋯</td><td>1</td><td>0</td><td>0</td><td>1</td><td>1</td><td>34</td><td>5</td><td>25</td><td>1</td><td>5</td></tr>\n",
       "\t<tr><th scope=row>4</th><td> 83</td><td>un homme </td><td>1977</td><td>Tunisie</td><td>Bac+5 (Master ou �quivalent)        </td><td>Sciences sociales (�conomie\\, sciences politiques\\, sociologie\\, etc)</td><td>Employ�s                                 </td><td>par une communication de Unow                 </td><td>J�ai un projet de cr�ation d�entreprise (phase de r�flexion)                                                         </td><td> 1</td><td>⋯</td><td>0</td><td>0</td><td>0</td><td>1</td><td>0</td><td>29</td><td>5</td><td>22</td><td>1</td><td>5</td></tr>\n",
       "\t<tr><th scope=row>5</th><td> 84</td><td>un homme </td><td>1988</td><td>Togo   </td><td>Bac+2 (Deug, IUT, BTS ou �quivalent)</td><td>Gestion d'entreprise                                                       </td><td>Employ�s                                 </td><td>par une communication de Unow                 </td><td>Je n'ai aucune exp�rience en cr�ation d'entreprise                                                                         </td><td> 1</td><td>⋯</td><td>0</td><td>0</td><td>0</td><td>0</td><td>0</td><td>23</td><td>2</td><td> 8</td><td>1</td><td>2</td></tr>\n",
       "\t<tr><th scope=row>6</th><td> 87</td><td>un homme </td><td>1972</td><td>France </td><td>Bac+5 (Master ou �quivalent)        </td><td>Math�matiques\\, informatique                                           </td><td>Cadres et professions intellectuelles       </td><td>par une communication de Unow                 </td><td>J�ai lanc� ma premi�re soci�t� il y a plus d'un an                                                                </td><td> 1</td><td>⋯</td><td>0</td><td>0</td><td>0</td><td>0</td><td>0</td><td> 2</td><td>0</td><td> 1</td><td>1</td><td>0</td></tr>\n",
       "\t<tr><th scope=row>7</th><td> 89</td><td>NA       </td><td>  NA</td><td>NA     </td><td>NA                                     </td><td>NA                                                                         </td><td>NA                                          </td><td>NA                                            </td><td>NA                                                                                                                               </td><td>NA</td><td>⋯</td><td>0</td><td>0</td><td>0</td><td>0</td><td>0</td><td> 0</td><td>0</td><td> 0</td><td>1</td><td>0</td></tr>\n",
       "\t<tr><th scope=row>8</th><td> 94</td><td>un homme </td><td>1969</td><td>France </td><td>Bac+8 (Doctorat ou �quivalent)      </td><td>Sciences naturelles (Agronomie\\, biologie\\, physique\\, chimie\\, etc)   </td><td>En recherche d'emploi                       </td><td>par mon milieu universitaire (Professeur, etc)</td><td>Je n'ai aucune exp�rience en cr�ation d'entreprise,J�ai un projet de cr�ation d�entreprise (phase de r�flexion)</td><td> 1</td><td>⋯</td><td>0</td><td>0</td><td>0</td><td>0</td><td>0</td><td>28</td><td>5</td><td> 2</td><td>1</td><td>5</td></tr>\n",
       "\t<tr><th scope=row>9</th><td> 95</td><td>NA       </td><td>  NA</td><td>NA     </td><td>NA                                     </td><td>NA                                                                         </td><td>NA                                          </td><td>NA                                            </td><td>NA                                                                                                                               </td><td>NA</td><td>⋯</td><td>0</td><td>0</td><td>0</td><td>0</td><td>0</td><td> 7</td><td>0</td><td> 6</td><td>1</td><td>0</td></tr>\n",
       "\t<tr><th scope=row>10</th><td> 98</td><td>un homme </td><td>1982</td><td>Togo   </td><td>Bac+5 (Master ou �quivalent)        </td><td>Sciences sociales (�conomie\\, sciences politiques\\, sociologie\\, etc)</td><td>Artisans, commer�ants, chefs d'entreprise</td><td>par un r�seau social                       </td><td>J�ai lanc� ma premi�re soci�t� il y a plus d'un an                                                                </td><td> 1</td><td>⋯</td><td>0</td><td>0</td><td>0</td><td>1</td><td>0</td><td>35</td><td>5</td><td>22</td><td>1</td><td>5</td></tr>\n",
       "\t<tr><th scope=row>11</th><td>100</td><td>un homme </td><td>1981</td><td>France </td><td>Bac+5 (Master ou �quivalent)        </td><td>Gestion d'entreprise                                                       </td><td>Cadres et professions intellectuelles       </td><td>par un article ou un blog sur Internet        </td><td>Je n'ai aucune exp�rience en cr�ation d'entreprise,J�ai un projet de cr�ation d�entreprise (phase de r�flexion)</td><td> 1</td><td>⋯</td><td>0</td><td>0</td><td>0</td><td>0</td><td>0</td><td>22</td><td>3</td><td> 6</td><td>1</td><td>3</td></tr>\n",
       "\t<tr><th scope=row>12</th><td>104</td><td>NA       </td><td>  NA</td><td>NA     </td><td>NA                                     </td><td>NA                                                                         </td><td>NA                                          </td><td>NA                                            </td><td>NA                                                                                                                               </td><td>NA</td><td>⋯</td><td>0</td><td>0</td><td>0</td><td>0</td><td>0</td><td> 8</td><td>0</td><td> 1</td><td>1</td><td>0</td></tr>\n",
       "\t<tr><th scope=row>13</th><td>105</td><td>NA       </td><td>  NA</td><td>NA     </td><td>NA                                     </td><td>NA                                                                         </td><td>NA                                          </td><td>NA                                            </td><td>NA                                                                                                                               </td><td>NA</td><td>⋯</td><td>0</td><td>0</td><td>0</td><td>0</td><td>0</td><td> 0</td><td>0</td><td> 0</td><td>1</td><td>0</td></tr>\n",
       "\t<tr><th scope=row>14</th><td>106</td><td>NA       </td><td>  NA</td><td>NA     </td><td>NA                                     </td><td>NA                                                                         </td><td>NA                                          </td><td>NA                                            </td><td>NA                                                                                                                               </td><td>NA</td><td>⋯</td><td>0</td><td>0</td><td>0</td><td>0</td><td>0</td><td> 0</td><td>0</td><td> 0</td><td>1</td><td>0</td></tr>\n",
       "\t<tr><th scope=row>15</th><td>109</td><td>une femme</td><td>1978</td><td>France </td><td>Bac+2 (Deug, IUT, BTS ou �quivalent)</td><td>Sciences m�dicales                                                      </td><td>Professions interm�diaires               </td><td>par une communication de Unow                 </td><td>J�ai un projet de cr�ation d�entreprise (phase de r�flexion)                                                         </td><td> 1</td><td>⋯</td><td>0</td><td>0</td><td>0</td><td>0</td><td>0</td><td>23</td><td>5</td><td>19</td><td>1</td><td>5</td></tr>\n",
       "\t<tr><th scope=row>16</th><td>110</td><td>un homme </td><td>1970</td><td>France </td><td>Bac+3 (Licence ou �quivalent)       </td><td>Autre                                                                      </td><td>En recherche d'emploi                       </td><td>par une communication de Unow                 </td><td>J�ai un projet de cr�ation d�entreprise (phase de r�flexion)                                                         </td><td> 1</td><td>⋯</td><td>0</td><td>0</td><td>0</td><td>1</td><td>0</td><td>35</td><td>5</td><td>27</td><td>1</td><td>5</td></tr>\n",
       "\t<tr><th scope=row>17</th><td>111</td><td>un homme </td><td>  NA</td><td>Togo   </td><td>Bac+5 (Master ou �quivalent)        </td><td>Gestion d'entreprise                                                       </td><td>Cadres et professions intellectuelles       </td><td>par un r�seau social                       </td><td>J�ai un projet de cr�ation d�entreprise (phase de r�flexion)                                                         </td><td> 4</td><td>⋯</td><td>0</td><td>0</td><td>0</td><td>0</td><td>0</td><td>35</td><td>5</td><td>29</td><td>1</td><td>5</td></tr>\n",
       "\t<tr><th scope=row>18</th><td>118</td><td>un homme </td><td>1975</td><td>Gabon  </td><td>Bac+5 (Master ou �quivalent)        </td><td>Sciences naturelles (Agronomie\\, biologie\\, physique\\, chimie\\, etc)   </td><td>Cadres et professions intellectuelles       </td><td>par un r�seau social                       </td><td>Je n'ai aucune exp�rience en cr�ation d'entreprise                                                                         </td><td> 1</td><td>⋯</td><td>1</td><td>0</td><td>0</td><td>0</td><td>1</td><td>29</td><td>5</td><td> 9</td><td>1</td><td>5</td></tr>\n",
       "\t<tr><th scope=row>19</th><td>121</td><td>NA       </td><td>  NA</td><td>NA     </td><td>NA                                     </td><td>NA                                                                         </td><td>NA                                          </td><td>NA                                            </td><td>NA                                                                                                                               </td><td>NA</td><td>⋯</td><td>0</td><td>0</td><td>0</td><td>0</td><td>0</td><td> 0</td><td>0</td><td> 0</td><td>1</td><td>0</td></tr>\n",
       "\t<tr><th scope=row>20</th><td>131</td><td>un homme </td><td>1960</td><td>France </td><td>Bac+3 (Licence ou �quivalent)       </td><td>Math�matiques\\, informatique                                           </td><td>Cadres et professions intellectuelles       </td><td>par un article ou un blog sur Internet        </td><td>Je n'ai aucune exp�rience en cr�ation d'entreprise                                                                         </td><td> 1</td><td>⋯</td><td>0</td><td>0</td><td>0</td><td>0</td><td>0</td><td> 2</td><td>0</td><td> 1</td><td>1</td><td>0</td></tr>\n",
       "</tbody>\n",
       "</table>\n"
      ],
      "text/plain": [
       "   Student_ID Gender    birth.year Country\n",
       "1   28        NA          NA       NA     \n",
       "2   36        NA          NA       NA     \n",
       "3   45        une femme 1956       France \n",
       "4   83        un homme  1977       Tunisie\n",
       "5   84        un homme  1988       Togo   \n",
       "6   87        un homme  1972       France \n",
       "7   89        NA          NA       NA     \n",
       "8   94        un homme  1969       France \n",
       "9   95        NA          NA       NA     \n",
       "10  98        un homme  1982       Togo   \n",
       "11 100        un homme  1981       France \n",
       "12 104        NA          NA       NA     \n",
       "13 105        NA          NA       NA     \n",
       "14 106        NA          NA       NA     \n",
       "15 109        une femme 1978       France \n",
       "16 110        un homme  1970       France \n",
       "17 111        un homme    NA       Togo   \n",
       "18 118        un homme  1975       Gabon  \n",
       "19 121        NA          NA       NA     \n",
       "20 131        un homme  1960       France \n",
       "   Diploma                                \n",
       "1  NA                                     \n",
       "2  NA                                     \n",
       "3  Bac+8 (Doctorat ou \\xe9quivalent)      \n",
       "4  Bac+5 (Master ou \\xe9quivalent)        \n",
       "5  Bac+2 (Deug, IUT, BTS ou \\xe9quivalent)\n",
       "6  Bac+5 (Master ou \\xe9quivalent)        \n",
       "7  NA                                     \n",
       "8  Bac+8 (Doctorat ou \\xe9quivalent)      \n",
       "9  NA                                     \n",
       "10 Bac+5 (Master ou \\xe9quivalent)        \n",
       "11 Bac+5 (Master ou \\xe9quivalent)        \n",
       "12 NA                                     \n",
       "13 NA                                     \n",
       "14 NA                                     \n",
       "15 Bac+2 (Deug, IUT, BTS ou \\xe9quivalent)\n",
       "16 Bac+3 (Licence ou \\xe9quivalent)       \n",
       "17 Bac+5 (Master ou \\xe9quivalent)        \n",
       "18 Bac+5 (Master ou \\xe9quivalent)        \n",
       "19 NA                                     \n",
       "20 Bac+3 (Licence ou \\xe9quivalent)       \n",
       "   Formation                                                                  \n",
       "1  NA                                                                         \n",
       "2  NA                                                                         \n",
       "3  Sciences naturelles (Agronomie\\\\, biologie\\\\, physique\\\\, chimie\\\\, etc)   \n",
       "4  Sciences sociales (\\xe9conomie\\\\, sciences politiques\\\\, sociologie\\\\, etc)\n",
       "5  Gestion d'entreprise                                                       \n",
       "6  Math\\xe9matiques\\\\, informatique                                           \n",
       "7  NA                                                                         \n",
       "8  Sciences naturelles (Agronomie\\\\, biologie\\\\, physique\\\\, chimie\\\\, etc)   \n",
       "9  NA                                                                         \n",
       "10 Sciences sociales (\\xe9conomie\\\\, sciences politiques\\\\, sociologie\\\\, etc)\n",
       "11 Gestion d'entreprise                                                       \n",
       "12 NA                                                                         \n",
       "13 NA                                                                         \n",
       "14 NA                                                                         \n",
       "15 Sciences m\\xe9dicales                                                      \n",
       "16 Autre                                                                      \n",
       "17 Gestion d'entreprise                                                       \n",
       "18 Sciences naturelles (Agronomie\\\\, biologie\\\\, physique\\\\, chimie\\\\, etc)   \n",
       "19 NA                                                                         \n",
       "20 Math\\xe9matiques\\\\, informatique                                           \n",
       "   CSP                                         \n",
       "1  NA                                          \n",
       "2  NA                                          \n",
       "3  Cadres et professions intellectuelles       \n",
       "4  Employ\\xe9s                                 \n",
       "5  Employ\\xe9s                                 \n",
       "6  Cadres et professions intellectuelles       \n",
       "7  NA                                          \n",
       "8  En recherche d'emploi                       \n",
       "9  NA                                          \n",
       "10 Artisans, commer\\xe7ants, chefs d'entreprise\n",
       "11 Cadres et professions intellectuelles       \n",
       "12 NA                                          \n",
       "13 NA                                          \n",
       "14 NA                                          \n",
       "15 Professions interm\\xe9diaires               \n",
       "16 En recherche d'emploi                       \n",
       "17 Cadres et professions intellectuelles       \n",
       "18 Cadres et professions intellectuelles       \n",
       "19 NA                                          \n",
       "20 Cadres et professions intellectuelles       \n",
       "   How.heard                                     \n",
       "1  NA                                            \n",
       "2  NA                                            \n",
       "3  par une communication de Unow                 \n",
       "4  par une communication de Unow                 \n",
       "5  par une communication de Unow                 \n",
       "6  par une communication de Unow                 \n",
       "7  NA                                            \n",
       "8  par mon milieu universitaire (Professeur, etc)\n",
       "9  NA                                            \n",
       "10 par un r\\xe9seau social                       \n",
       "11 par un article ou un blog sur Internet        \n",
       "12 NA                                            \n",
       "13 NA                                            \n",
       "14 NA                                            \n",
       "15 par une communication de Unow                 \n",
       "16 par une communication de Unow                 \n",
       "17 par un r\\xe9seau social                       \n",
       "18 par un r\\xe9seau social                       \n",
       "19 NA                                            \n",
       "20 par un article ou un blog sur Internet        \n",
       "   Exp.crea                                                                                                                         \n",
       "1  NA                                                                                                                               \n",
       "2  NA                                                                                                                               \n",
       "3  Je n'ai aucune exp\\xe9rience en cr\\xe9ation d'entreprise,J'accompagne des cr\\xe9ateurs d'entreprises dans le cadre de mon travail\n",
       "4  J\\x92ai un projet de cr\\xe9ation d\\x92entreprise (phase de r\\xe9flexion)                                                         \n",
       "5  Je n'ai aucune exp\\xe9rience en cr\\xe9ation d'entreprise                                                                         \n",
       "6  J\\x92ai lanc\\xe9 ma premi\\xe8re soci\\xe9t\\xe9 il y a plus d'un an                                                                \n",
       "7  NA                                                                                                                               \n",
       "8  Je n'ai aucune exp\\xe9rience en cr\\xe9ation d'entreprise,J\\x92ai un projet de cr\\xe9ation d\\x92entreprise (phase de r\\xe9flexion)\n",
       "9  NA                                                                                                                               \n",
       "10 J\\x92ai lanc\\xe9 ma premi\\xe8re soci\\xe9t\\xe9 il y a plus d'un an                                                                \n",
       "11 Je n'ai aucune exp\\xe9rience en cr\\xe9ation d'entreprise,J\\x92ai un projet de cr\\xe9ation d\\x92entreprise (phase de r\\xe9flexion)\n",
       "12 NA                                                                                                                               \n",
       "13 NA                                                                                                                               \n",
       "14 NA                                                                                                                               \n",
       "15 J\\x92ai un projet de cr\\xe9ation d\\x92entreprise (phase de r\\xe9flexion)                                                         \n",
       "16 J\\x92ai un projet de cr\\xe9ation d\\x92entreprise (phase de r\\xe9flexion)                                                         \n",
       "17 J\\x92ai un projet de cr\\xe9ation d\\x92entreprise (phase de r\\xe9flexion)                                                         \n",
       "18 Je n'ai aucune exp\\xe9rience en cr\\xe9ation d'entreprise                                                                         \n",
       "19 NA                                                                                                                               \n",
       "20 Je n'ai aucune exp\\xe9rience en cr\\xe9ation d'entreprise                                                                         \n",
       "   Curiosity.MOOC ⋯ view.forum.4.2 Post.forum.5 Post.forum.5.2 view.forum.5\n",
       "1  NA             ⋯ 0              0            0              0           \n",
       "2  NA             ⋯ 0              0            0              0           \n",
       "3   1             ⋯ 1              0            0              1           \n",
       "4   1             ⋯ 0              0            0              1           \n",
       "5   1             ⋯ 0              0            0              0           \n",
       "6   1             ⋯ 0              0            0              0           \n",
       "7  NA             ⋯ 0              0            0              0           \n",
       "8   1             ⋯ 0              0            0              0           \n",
       "9  NA             ⋯ 0              0            0              0           \n",
       "10  1             ⋯ 0              0            0              1           \n",
       "11  1             ⋯ 0              0            0              0           \n",
       "12 NA             ⋯ 0              0            0              0           \n",
       "13 NA             ⋯ 0              0            0              0           \n",
       "14 NA             ⋯ 0              0            0              0           \n",
       "15  1             ⋯ 0              0            0              0           \n",
       "16  1             ⋯ 0              0            0              1           \n",
       "17  4             ⋯ 0              0            0              0           \n",
       "18  1             ⋯ 1              0            0              0           \n",
       "19 NA             ⋯ 0              0            0              0           \n",
       "20  1             ⋯ 0              0            0              0           \n",
       "   view.forum.5.2 last.video last.quizz Video_total iteration quizzes_completed\n",
       "1  0               1         0           0          1         0                \n",
       "2  0               0         0           0          1         0                \n",
       "3  1              34         5          25          1         5                \n",
       "4  0              29         5          22          1         5                \n",
       "5  0              23         2           8          1         2                \n",
       "6  0               2         0           1          1         0                \n",
       "7  0               0         0           0          1         0                \n",
       "8  0              28         5           2          1         5                \n",
       "9  0               7         0           6          1         0                \n",
       "10 0              35         5          22          1         5                \n",
       "11 0              22         3           6          1         3                \n",
       "12 0               8         0           1          1         0                \n",
       "13 0               0         0           0          1         0                \n",
       "14 0               0         0           0          1         0                \n",
       "15 0              23         5          19          1         5                \n",
       "16 0              35         5          27          1         5                \n",
       "17 0              35         5          29          1         5                \n",
       "18 1              29         5           9          1         5                \n",
       "19 0               0         0           0          1         0                \n",
       "20 0               2         0           1          1         0                "
      ]
     },
     "metadata": {},
     "output_type": "display_data"
    }
   ],
   "source": [
    "head(merged1_modif, 20)"
   ]
  },
  {
   "cell_type": "code",
   "execution_count": 9,
   "metadata": {
    "vscode": {
     "languageId": "r"
    }
   },
   "outputs": [],
   "source": [
    "# Ensure that the columns have the same type before binding the rows\n",
    "merged1_modif <- merged1_modif %>%\n",
    "  mutate(\n",
    "    Curiosity.MOOC = as.character(Curiosity.MOOC),\n",
    "    Rencontres = as.character(Rencontres)\n",
    "  )\n",
    "\n",
    "merged2_modif <- merged2_modif %>%\n",
    "  mutate(\n",
    "    Curiosity.MOOC = as.character(Curiosity.MOOC),\n",
    "    Rencontres = as.character(Rencontres)\n",
    "  )\n",
    "\n",
    "merged3_modif <- merged3_modif %>%\n",
    "  mutate(\n",
    "    Curiosity.MOOC = as.character(Curiosity.MOOC),\n",
    "    Rencontres = as.character(Rencontres)\n",
    "  )\n",
    "\n",
    "merged <- bind_rows(merged1_modif, merged2_modif, merged3_modif)"
   ]
  },
  {
   "cell_type": "code",
   "execution_count": 86,
   "metadata": {
    "vscode": {
     "languageId": "r"
    }
   },
   "outputs": [
    {
     "data": {
      "text/html": [
       "15182"
      ],
      "text/latex": [
       "15182"
      ],
      "text/markdown": [
       "15182"
      ],
      "text/plain": [
       "[1] 15182"
      ]
     },
     "metadata": {},
     "output_type": "display_data"
    }
   ],
   "source": [
    "nrow(merged)"
   ]
  },
  {
   "cell_type": "code",
   "execution_count": 10,
   "metadata": {
    "vscode": {
     "languageId": "r"
    }
   },
   "outputs": [
    {
     "name": "stdout",
     "output_type": "stream",
     "text": [
      "'data.frame':\t15182 obs. of  122 variables:\n",
      " $ Student_ID           : num  28 36 45 83 84 87 89 94 95 98 ...\n",
      " $ Gender               : chr  NA NA \"une femme\" \"un homme\" ...\n",
      " $ birth.year           : num  NA NA 1956 1977 1988 ...\n",
      " $ Country              : chr  NA NA \"France\" \"Tunisie\" ...\n",
      " $ Diploma              : chr  NA NA \"Bac+8 (Doctorat ou \\xe9quivalent)\" \"Bac+5 (Master ou \\xe9quivalent)\" ...\n",
      " $ Formation            : chr  NA NA \"Sciences naturelles (Agronomie\\\\, biologie\\\\, physique\\\\, chimie\\\\, etc)\" \"Sciences sociales (\\xe9conomie\\\\, sciences politiques\\\\, sociologie\\\\, etc)\" ...\n",
      " $ CSP                  : chr  NA NA \"Cadres et professions intellectuelles\" \"Employ\\xe9s\" ...\n",
      " $ How.heard            : chr  NA NA \"par une communication de Unow\" \"par une communication de Unow\" ...\n",
      " $ Exp.crea             : chr  NA NA \"Je n'ai aucune exp\\xe9rience en cr\\xe9ation d'entreprise,J'accompagne des cr\\xe9ateurs d'entreprises dans le cadre de mon trava \"J\\x92ai un projet de cr\\xe9ation d\\x92entreprise (phase de r\\xe9flexion)\" ...\n",
      " $ Curiosity.MOOC       : chr  NA NA \"1\" \"1\" ...\n",
      " $ Certif.self.sat      : num  NA NA 3 2 1 3 NA 5 NA 5 ...\n",
      " $ Rencontres           : chr  NA NA \"5\" \"2\" ...\n",
      " $ Certif.work          : num  NA NA 1 1 1 3 NA 5 NA 1 ...\n",
      " $ Incitation           : num  NA NA 5 3 1 1 NA 4 NA 2 ...\n",
      " $ Temps.Dispo          : chr  NA NA \"Entre deux et quatre heures\" \"Entre quatre et six heures\" ...\n",
      " $ Exp.MOOC             : chr  NA NA \"Oui, dont certains int\\xe9gralement\" \"Oui, dont certains int\\xe9gralement\" ...\n",
      " $ Completion.proba     : num  NA NA 4 5 4 4 NA 5 NA 5 ...\n",
      " $ Instit.brand         : chr  NA NA NA \"4. Non, n\\x92\\xe9tait pas le crit\\xe8re principal\" ...\n",
      " $ motiv.princ          : chr  NA NA NA \"La volont\\xe9 d\\x92acqu\\xe9rir de nouvelles comp\\xe9tences\" ...\n",
      " $ diffic               : chr  NA NA NA \"Difficult\\xe9 \\xe0 trouver du temps\" ...\n",
      " $ encad.disp           : chr  NA NA NA \"Disponibles\" ...\n",
      " $ How.contact          : chr  NA NA NA \"je n\\x92ai pas \\xe9chang\\xe9 avec les autres participants\" ...\n",
      " $ entour               : chr  NA NA NA \"Non, personne dans mon entourage ne s'est inscrit \\xe0 ce MOOC\" ...\n",
      " $ entour.inter         : chr  NA NA NA \"Regard\\xe9 des vid\\xe9os ensemble,S\\x92encourager mutuellement \\xe0 poursuivre le MOOC\" ...\n",
      " $ Satisf               : num  NA NA NA 3 NA NA NA 5 NA 4 ...\n",
      " $ Eval.diffic          : chr  NA NA NA \"Moyen\" ...\n",
      " $ Estimated.hours      : chr  NA NA NA \"De 2 \\xe0 4 heures\" ...\n",
      " $ Part.labo            : chr  NA NA NA \"Non\\\\, j\\x92ai compris ce qu\\x92\\xe9tait le Laboratoire mais je n\\x92y ai pas particip\\xe9\" ...\n",
      " $ Plat.satisf          : chr  NA NA NA \"Satisfaisante\" ...\n",
      " $ Peer.eval.relev      : chr  NA NA NA \"3\" ...\n",
      " $ encad.diffic         : logi  NA NA NA NA NA NA ...\n",
      " $ Country_HDI          : chr  NA NA \"TH\" \"M\" ...\n",
      " $ Country_HDI.fin      : chr  NA NA \"TH\" \"H&M\" ...\n",
      " $ CSP.fin              : chr  NA NA \"Cadres et professions intellectuelles\" \"Employ\\xe9s\" ...\n",
      " $ Temps.dispo.fin      : chr  NA NA \"Entre deux et quatre heures\" \"Entre quatre et six heures\" ...\n",
      " $ Exam.score           : num  NA NA NA NA NA NA NA NA NA NA ...\n",
      " $ Exam.bin             : num  0 0 0 0 0 0 0 0 0 0 ...\n",
      " $ Assignment.score     : num  NA NA NA 60 NA NA NA 70 NA 39 ...\n",
      " $ Assignment.bin       : num  0 0 0 1 0 0 0 1 0 1 ...\n",
      " $ Quizz.1.score        : num  NA NA 16 13 18 NA NA 17 NA 18 ...\n",
      " $ Quizz.1.bin          : num  0 0 1 1 1 0 0 1 0 1 ...\n",
      " $ Quizz.2.score        : num  NA NA 20 20 20 NA NA 20 NA 18 ...\n",
      " $ Quizz.2.bin          : num  0 0 1 1 1 0 0 1 0 1 ...\n",
      " $ Quizz.3.score        : num  NA NA 18 18 NA NA NA 20 NA 14 ...\n",
      " $ Quizz.3.bin          : num  0 0 1 1 0 0 0 1 0 1 ...\n",
      " $ Quizz.4.bin          : num  0 0 1 1 0 0 0 1 0 1 ...\n",
      " $ Quizz.4.score        : num  NA NA 20 20 NA NA NA 20 NA 18 ...\n",
      " $ Quizz.5.bin          : num  0 0 1 1 0 0 0 1 0 1 ...\n",
      " $ Quizz.5.score        : num  NA NA 19 13 NA NA NA 20 NA 19 ...\n",
      " $ Intro.MOOC           : logi  NA NA NA NA NA NA ...\n",
      " $ Prez.sem.1           : num  1 0 1 1 1 1 0 1 0 1 ...\n",
      " $ S1.L1                : num  0 0 1 1 1 1 0 1 1 1 ...\n",
      " $ S1.L2                : num  0 0 1 1 1 0 0 0 1 1 ...\n",
      " $ S1.L3                : num  0 0 1 0 1 0 0 0 1 1 ...\n",
      " $ S1.L4                : num  0 0 1 1 1 0 0 0 1 1 ...\n",
      " $ S1.L5                : num  0 0 1 1 1 0 0 0 1 1 ...\n",
      " $ S1.L6                : num  0 0 1 1 1 0 0 0 1 1 ...\n",
      " $ Prez.sem.2           : num  0 0 1 1 1 0 0 1 0 1 ...\n",
      " $ S2.L1                : num  0 0 1 1 0 0 0 0 0 1 ...\n",
      " $ S2.L2                : num  0 0 1 1 0 0 0 0 0 1 ...\n",
      " $ S2.L3                : num  0 0 1 1 0 0 0 0 0 1 ...\n",
      " $ S2.L4                : num  0 0 1 1 0 0 0 0 0 1 ...\n",
      " $ S2.L5                : num  0 0 1 1 0 0 0 0 0 1 ...\n",
      " $ S2.L6                : num  0 0 1 0 0 0 0 0 0 1 ...\n",
      " $ Prez.sem.3           : num  0 0 1 1 0 0 0 1 0 1 ...\n",
      " $ S3.L1.1              : num  0 0 1 1 1 0 0 0 0 1 ...\n",
      " $ S3.L1.2              : num  0 0 1 1 0 0 0 0 0 0 ...\n",
      " $ S3.L2                : num  0 0 1 1 0 0 0 0 0 0 ...\n",
      " $ S3.L3                : num  0 0 1 1 0 0 0 0 0 0 ...\n",
      " $ S3.L4                : num  0 0 1 1 0 0 0 0 0 0 ...\n",
      " $ S3.L5                : num  0 0 0 1 0 0 0 0 0 0 ...\n",
      " $ Prez.sem.4           : num  0 0 1 1 0 0 0 1 0 1 ...\n",
      " $ S4.L1.1              : num  0 0 1 1 1 0 0 0 0 1 ...\n",
      " $ S4.L1.2              : num  0 0 1 1 0 0 0 0 0 1 ...\n",
      " $ S4.L2                : num  0 0 1 1 0 0 0 0 0 1 ...\n",
      " $ S4.L3                : num  0 0 0 1 0 0 0 0 0 1 ...\n",
      " $ S4.L4                : num  0 0 0 1 0 0 0 0 0 0 ...\n",
      " $ S4.L5                : num  0 0 0 1 0 0 0 1 0 0 ...\n",
      " $ Prez.sem.5           : num  0 0 1 1 0 0 0 0 0 1 ...\n",
      " $ S5.L1.1              : num  0 0 1 0 0 0 0 0 0 1 ...\n",
      " $ S5.L1.2              : num  0 0 1 0 0 0 0 0 0 1 ...\n",
      " $ S5.L2                : num  0 0 1 0 0 0 0 0 0 1 ...\n",
      " $ S5.L3                : num  0 0 1 0 0 0 0 0 0 1 ...\n",
      " $ S5.L4                : num  0 0 1 0 0 0 0 0 0 1 ...\n",
      " $ S5.L5                : num  0 0 0 0 0 0 0 0 0 1 ...\n",
      " $ Post.forum.0         : num  0 0 1 0 0 0 0 0 0 0 ...\n",
      " $ view.forum.0         : num  0 0 1 1 0 0 0 0 0 0 ...\n",
      " $ Post.forum.1         : num  0 0 0 0 0 0 0 0 0 1 ...\n",
      " $ Post.forum.1.2       : num  0 0 0 0 0 0 0 0 0 0 ...\n",
      " $ view.forum.1         : num  0 0 1 1 1 1 0 1 0 1 ...\n",
      " $ view.forum.1.2       : num  0 0 1 1 0 1 0 1 0 1 ...\n",
      " $ Post.forum.2         : num  0 0 0 0 0 0 0 0 0 0 ...\n",
      " $ Post.forum.2.2       : num  0 0 0 0 0 0 0 0 0 0 ...\n",
      " $ view.forum.2         : num  0 0 1 0 0 0 0 0 0 0 ...\n",
      " $ view.forum.2.2       : num  0 0 1 1 0 0 0 1 0 1 ...\n",
      " $ Post.forum.3         : num  0 0 0 0 0 0 0 0 0 0 ...\n",
      " $ view.forum.3         : num  0 0 1 0 0 0 0 0 0 0 ...\n",
      " $ Post.forum.4         : num  0 0 0 0 0 0 0 1 0 0 ...\n",
      " $ Post.forum.4.2       : num  0 0 0 0 0 0 0 0 0 0 ...\n",
      "  [list output truncated]\n"
     ]
    }
   ],
   "source": [
    "str(merged)"
   ]
  },
  {
   "cell_type": "code",
   "execution_count": 11,
   "metadata": {
    "vscode": {
     "languageId": "r"
    }
   },
   "outputs": [],
   "source": [
    "merged <- merged %>%\n",
    "  select(Gender, Country_HDI, Video_total, quizzes_completed, iteration, Exam.bin, Assignment.bin)"
   ]
  },
  {
   "cell_type": "code",
   "execution_count": 12,
   "metadata": {
    "vscode": {
     "languageId": "r"
    }
   },
   "outputs": [],
   "source": [
    "merged <- merged %>%\n",
    "  mutate(\n",
    "    HDI_grouped = case_when(\n",
    "      Country_HDI == \"B\" ~ \"B\",\n",
    "      Country_HDI %in% c(\"M\", \"H\") ~ \"I\",\n",
    "      Country_HDI == \"TH\" ~ \"TH\",\n",
    "      TRUE ~ NA_character_\n",
    "    )\n",
    "  )"
   ]
  },
  {
   "cell_type": "code",
   "execution_count": 13,
   "metadata": {
    "vscode": {
     "languageId": "r"
    }
   },
   "outputs": [],
   "source": [
    "hdi_count <- merged %>%\n",
    "  count(HDI_grouped) %>%\n",
    "  rename(HDI_Category = HDI_grouped, Count = n)"
   ]
  },
  {
   "cell_type": "code",
   "execution_count": 14,
   "metadata": {
    "vscode": {
     "languageId": "r"
    }
   },
   "outputs": [],
   "source": [
    "merged <- merged %>%\n",
    "  #Si Exam.bin = 1 ou Assignment.bin = 1, alors on met 1 dans Certif.bin\n",
    "    mutate(Certif.bin = case_when(\n",
    "        Exam.bin == 1 | Assignment.bin == 1 ~ 1,\n",
    "        TRUE ~ 0\n",
    "    ))"
   ]
  },
  {
   "cell_type": "code",
   "execution_count": 15,
   "metadata": {
    "vscode": {
     "languageId": "r"
    }
   },
   "outputs": [
    {
     "name": "stdout",
     "output_type": "stream",
     "text": [
      "  iteration Completer Disengaging  Auditing Bystander\n",
      "1         1  31.07345    27.60829 0.7156309  39.42247\n",
      "2         2  26.98541    25.41869 1.4856834  44.78660\n",
      "3         3  25.66145    21.84922 0.9388336  49.98578\n"
     ]
    }
   ],
   "source": [
    "# Ajouter des colonnes pour chaque type d'apprenant\n",
    "df_MOOC <- merged %>%\n",
    "  mutate(\n",
    "    Completer = ifelse(Exam.bin == 1 | Certif.bin == 1, 1, 0),  # Completer\n",
    "    Disengaging = ifelse((quizzes_completed > 0 | Assignment.bin == 1) & Exam.bin == 0 & Certif.bin == 0, 1, 0),  # Disengaging\n",
    "    Auditing = ifelse(Video_total > 6 & quizzes_completed == 0 & Assignment.bin == 0, 1, 0),  # Auditing\n",
    "    Bystander = ifelse(Video_total < 6 & quizzes_completed == 0 & Assignment.bin == 0, 1, 0)  # Bystander\n",
    "  )\n",
    "\n",
    "# Calculer les proportions par itération\n",
    "result_MOOC <- df_MOOC %>%\n",
    "  group_by(iteration) %>%\n",
    "  summarise(\n",
    "    Completer = mean(Completer),\n",
    "    Disengaging = mean(Disengaging),\n",
    "    Auditing = mean(Auditing),\n",
    "    Bystander = mean(Bystander)\n",
    "  ) %>%\n",
    "  mutate(iteration = iteration/100)\n",
    "\n",
    "# Afficher la table\n",
    "print(result_MOOC * 100)"
   ]
  },
  {
   "cell_type": "code",
   "execution_count": 16,
   "metadata": {
    "vscode": {
     "languageId": "r"
    }
   },
   "outputs": [],
   "source": [
    "df_MOOC <- df_MOOC %>%\n",
    "  select(-Country_HDI)"
   ]
  },
  {
   "cell_type": "code",
   "execution_count": 17,
   "metadata": {
    "vscode": {
     "languageId": "r"
    }
   },
   "outputs": [
    {
     "data": {
      "image/png": "[encoded data removed]",
      "text/plain": [
       "plot without title"
      ]
     },
     "metadata": {
      "image/png": {
       "height": 420,
       "width": 420
      }
     },
     "output_type": "display_data"
    }
   ],
   "source": [
    "# Visualiser les données manquantes avec des séparateurs\n",
    "vis_miss(df_MOOC) +\n",
    "  labs(\n",
    "    title = \"Visualisation des Données Manquantes\",\n",
    "    x = \"Variables\",\n",
    "    y = \"Observations\"\n",
    "  ) +\n",
    "  theme_minimal(base_size = 14) +\n",
    "  theme(\n",
    "    plot.title = element_text(face = \"bold\", size = 18, hjust = 0.5),\n",
    "    plot.subtitle = element_text(size = 14, hjust = 0.5),\n",
    "    axis.text.x = element_text(angle = 45, hjust = 0.2, size = 12),\n",
    "    axis.text.y = element_text(size = 12),\n",
    "    panel.grid.major.x = element_blank(), # Pas de lignes de séparation verticales\n",
    "    panel.grid.major.y = element_line(color = \"gray70\", linewidth = 0.5), # Lignes entre les variables\n",
    "    panel.grid.minor = element_blank(),\n",
    "    plot.background = element_rect(fill = \"white\", color = \"white\")\n",
    "  ) +\n",
    "  guides(fill = guide_legend(title = \"État des données\"))\n"
   ]
  },
  {
   "cell_type": "code",
   "execution_count": 18,
   "metadata": {
    "vscode": {
     "languageId": "r"
    }
   },
   "outputs": [
    {
     "name": "stdout",
     "output_type": "stream",
     "text": [
      "\n",
      "\tPearson's Chi-squared test\n",
      "\n",
      "data:  contingency_table\n",
      "X-squared = 179.24, df = 2, p-value < 2.2e-16\n",
      "\n"
     ]
    },
    {
     "ename": "ERROR",
     "evalue": "Error in if (split_vertical[i]) {: valeur manquante là où TRUE / FALSE est requis\n",
     "output_type": "error",
     "traceback": [
      "Error in if (split_vertical[i]) {: valeur manquante là où TRUE / FALSE est requis\nTraceback:\n",
      "1. mosaic(contingency_table, shade = TRUE, legend = TRUE, main = \"Mosaic Plot of Chi2 Residuals\", \n .     )",
      "2. mosaic.default(contingency_table, shade = TRUE, legend = TRUE, \n .     main = \"Mosaic Plot of Chi2 Residuals\", )",
      "3. strucplot(x, condvars = if (is.null(condvars)) NULL else length(condvars), \n .     core = struc_mosaic(zero_size = zero_size, zero_split = zero_split, \n .         zero_shade = zero_shade, zero_gp = zero_gp, panel = panel), \n .     split_vertical = split_vertical, spacing = spacing, spacing_args = spacing_args, \n .     gp = gp, expected = expected, shade = shade, main = main, \n .     sub = sub, ...)",
      "4. labeling(dn, split_vertical, condvars, prefix)"
     ]
    },
    {
     "data": {
      "image/png": "[encoded data removed]",
      "text/plain": [
       "plot without title"
      ]
     },
     "metadata": {
      "image/png": {
       "height": 420,
       "width": 420
      }
     },
     "output_type": "display_data"
    }
   ],
   "source": [
    "# 1. Créer le tableau de contingence entre Gender et HDI_grouped\n",
    "contingency_table <- table(df_MOOC$Gender, df_MOOC$HDI_grouped)\n",
    "\n",
    "# 2. Effectuer le test du chi²\n",
    "chi2_test <- chisq.test(contingency_table)\n",
    "\n",
    "# Afficher les résultats du test du chi²\n",
    "print(chi2_test)\n",
    "\n",
    "# 3. Résidus du test du chi²\n",
    "residuals <- chi2_test$residuals\n",
    "\n",
    "mosaic(\n",
    "  contingency_table,\n",
    "  shade = TRUE,       # Colore les cases en fonction des résidus\n",
    "  legend = TRUE,      # Affiche une légende des couleurs\n",
    "  main = \"Mosaic Plot of Chi2 Residuals\",\n",
    ")"
   ]
  },
  {
   "cell_type": "code",
   "execution_count": 19,
   "metadata": {
    "vscode": {
     "languageId": "r"
    }
   },
   "outputs": [
    {
     "name": "stdout",
     "output_type": "stream",
     "text": [
      "\n",
      "\tPearson's Chi-squared test\n",
      "\n",
      "data:  contingency_table\n",
      "X-squared = 179.24, df = 2, p-value < 2.2e-16\n",
      "\n",
      "X-squared \n",
      " 0.141509 \n"
     ]
    },
    {
     "ename": "ERROR",
     "evalue": "Error in if (split_vertical[i]) {: valeur manquante là où TRUE / FALSE est requis\n",
     "output_type": "error",
     "traceback": [
      "Error in if (split_vertical[i]) {: valeur manquante là où TRUE / FALSE est requis\nTraceback:\n",
      "1. mosaic(contingency_table, shade = TRUE, legend = TRUE, )",
      "2. mosaic.default(contingency_table, shade = TRUE, legend = TRUE, \n .     )",
      "3. strucplot(x, condvars = if (is.null(condvars)) NULL else length(condvars), \n .     core = struc_mosaic(zero_size = zero_size, zero_split = zero_split, \n .         zero_shade = zero_shade, zero_gp = zero_gp, panel = panel), \n .     split_vertical = split_vertical, spacing = spacing, spacing_args = spacing_args, \n .     gp = gp, expected = expected, shade = shade, main = main, \n .     sub = sub, ...)",
      "4. labeling(dn, split_vertical, condvars, prefix)"
     ]
    },
    {
     "data": {
      "image/png": "[encoded data removed]",
      "text/plain": [
       "plot without title"
      ]
     },
     "metadata": {
      "image/png": {
       "height": 420,
       "width": 420
      }
     },
     "output_type": "display_data"
    }
   ],
   "source": [
    "# Test du Chi2 pour l'indépendance entre Gender et HDI\n",
    "chi_test <- chisq.test(contingency_table)\n",
    "print(chi_test)\n",
    "\n",
    "# Calcul du V de Cramer\n",
    "cramer_v <- sqrt(chi_test$statistic / (sum(contingency_table) * min(dim(contingency_table) - 1)))\n",
    "print(cramer_v)\n",
    "\n",
    "# Création du mosaic plot sans les résidus\n",
    "mosaic(\n",
    "  contingency_table,\n",
    "  shade = TRUE,       # Colore les cases en fonction des résidus\n",
    "  legend = TRUE,\n",
    ")"
   ]
  },
  {
   "cell_type": "code",
   "execution_count": 20,
   "metadata": {
    "vscode": {
     "languageId": "r"
    }
   },
   "outputs": [
    {
     "data": {
      "image/png": "[encoded data removed]",
      "text/plain": [
       "plot without title"
      ]
     },
     "metadata": {
      "image/png": {
       "height": 420,
       "width": 420
      }
     },
     "output_type": "display_data"
    }
   ],
   "source": [
    "# Chargement des données Iris\n",
    "data(iris)\n",
    "# Représentation graphique : scatterplot\n",
    "library(ggplot2)\n",
    "\n",
    "ggplot(iris, aes(x = Petal.Length, y = Petal.Width, color = Species, shape = Species)) +\n",
    "  geom_point() +\n",
    "  labs(title = \"Largeur du pétale en fonction de la longueur du pétale\",\n",
    "       x = \"Longueur du pétale (cm)\",\n",
    "       y = \"Largeur du pétale (cm)\") +\n",
    "  theme_minimal()"
   ]
  },
  {
   "cell_type": "code",
   "execution_count": 21,
   "metadata": {
    "vscode": {
     "languageId": "r"
    }
   },
   "outputs": [
    {
     "name": "stderr",
     "output_type": "stream",
     "text": [
      "\u001b[1m\u001b[22m`geom_smooth()` using formula = 'y ~ x'\n"
     ]
    },
    {
     "data": {
      "image/png": "[encoded data removed]",
      "text/plain": [
       "plot without title"
      ]
     },
     "metadata": {
      "image/png": {
       "height": 420,
       "width": 420
      }
     },
     "output_type": "display_data"
    }
   ],
   "source": [
    "# Ajustement de la régression linéaire\n",
    "model <- lm(Petal.Width ~ Petal.Length, data = iris)\n",
    "\n",
    "# Affichage de la régression linéaire sur le graphique\n",
    "ggplot(iris, aes(x = Petal.Length, y = Petal.Width, color = Species, shape = Species)) +\n",
    "  geom_point() +\n",
    "  geom_smooth(method = \"lm\", se = FALSE, color = \"black\") +  # Ajouter la régression linéaire\n",
    "  labs(title = \"Régression linéaire : Largeur du pétale en fonction de la longueur\",\n",
    "       x = \"Longueur du pétale (cm)\",\n",
    "       y = \"Largeur du pétale (cm)\") +\n",
    "  theme_minimal()\n"
   ]
  },
  {
   "cell_type": "code",
   "execution_count": 22,
   "metadata": {
    "vscode": {
     "languageId": "r"
    }
   },
   "outputs": [
    {
     "data": {
      "text/html": [
       "0.962865431402796"
      ],
      "text/latex": [
       "0.962865431402796"
      ],
      "text/markdown": [
       "0.962865431402796"
      ],
      "text/plain": [
       "[1] 0.9628654"
      ]
     },
     "metadata": {},
     "output_type": "display_data"
    }
   ],
   "source": [
    "# Calcul du coefficient de corrélation de Pearson\n",
    "cor(iris$Petal.Length, iris$Petal.Width)\n"
   ]
  },
  {
   "cell_type": "code",
   "execution_count": 23,
   "metadata": {
    "vscode": {
     "languageId": "r"
    }
   },
   "outputs": [
    {
     "data": {
      "image/png": "[encoded data removed]",
      "text/plain": [
       "plot without title"
      ]
     },
     "metadata": {
      "image/png": {
       "height": 420,
       "width": 420
      }
     },
     "output_type": "display_data"
    }
   ],
   "source": [
    "# Boxplot de la largeur du pétale en fonction de l'espèce\n",
    "ggplot(iris, aes(x = Species, y = Petal.Width, fill = Species)) +\n",
    "  geom_boxplot() +\n",
    "  labs(title = \"Boxplot de la largeur du pétale en fonction de l'espèce\",\n",
    "       x = \"Espèce\",\n",
    "       y = \"Largeur du pétale (cm)\") +\n",
    "  theme_minimal()\n"
   ]
  },
  {
   "cell_type": "code",
   "execution_count": 24,
   "metadata": {
    "vscode": {
     "languageId": "r"
    }
   },
   "outputs": [
    {
     "data": {
      "text/plain": [
       "             Df Sum Sq Mean Sq F value Pr(>F)    \n",
       "Species       2  80.41   40.21     960 <2e-16 ***\n",
       "Residuals   147   6.16    0.04                   \n",
       "---\n",
       "Signif. codes:  0 '***' 0.001 '**' 0.01 '*' 0.05 '.' 0.1 ' ' 1"
      ]
     },
     "metadata": {},
     "output_type": "display_data"
    }
   ],
   "source": [
    "# ANOVA pour tester l'effet de l'espèce sur la largeur du pétale\n",
    "anova_model <- aov(Petal.Width ~ Species, data = iris)\n",
    "\n",
    "# Affichage des résultats de l'ANOVA\n",
    "summary(anova_model)\n"
   ]
  },
  {
   "cell_type": "code",
   "execution_count": 25,
   "metadata": {
    "vscode": {
     "languageId": "r"
    }
   },
   "outputs": [
    {
     "data": {
      "text/html": [
       "<table class=\"dataframe\">\n",
       "<caption>A anova: 2 × 5</caption>\n",
       "<thead>\n",
       "\t<tr><th></th><th scope=col>Df</th><th scope=col>Sum Sq</th><th scope=col>Mean Sq</th><th scope=col>F value</th><th scope=col>Pr(&gt;F)</th></tr>\n",
       "\t<tr><th></th><th scope=col>&lt;dbl&gt;</th><th scope=col>&lt;dbl&gt;</th><th scope=col>&lt;dbl&gt;</th><th scope=col>&lt;dbl&gt;</th><th scope=col>&lt;dbl&gt;</th></tr>\n",
       "</thead>\n",
       "<tbody>\n",
       "\t<tr><th scope=row>Species    </th><td>  2</td><td>80.41333</td><td>40.20666667</td><td>960.0071</td><td>4.169446e-85</td></tr>\n",
       "\t<tr><th scope=row>Residuals  </th><td>147</td><td> 6.15660</td><td> 0.04188163</td><td>      NA</td><td>          NA</td></tr>\n",
       "</tbody>\n",
       "</table>\n"
      ],
      "text/latex": [
       "A anova: 2 × 5\n",
       "\\begin{tabular}{r|lllll}\n",
       "  & Df & Sum Sq & Mean Sq & F value & Pr(>F)\\\\\n",
       "  & <dbl> & <dbl> & <dbl> & <dbl> & <dbl>\\\\\n",
       "\\hline\n",
       "\tSpecies     &   2 & 80.41333 & 40.20666667 & 960.0071 & 4.169446e-85\\\\\n",
       "\tResiduals   & 147 &  6.15660 &  0.04188163 &       NA &           NA\\\\\n",
       "\\end{tabular}\n"
      ],
      "text/markdown": [
       "\n",
       "A anova: 2 × 5\n",
       "\n",
       "| <!--/--> | Df &lt;dbl&gt; | Sum Sq &lt;dbl&gt; | Mean Sq &lt;dbl&gt; | F value &lt;dbl&gt; | Pr(&gt;F) &lt;dbl&gt; |\n",
       "|---|---|---|---|---|---|\n",
       "| Species     |   2 | 80.41333 | 40.20666667 | 960.0071 | 4.169446e-85 |\n",
       "| Residuals   | 147 |  6.15660 |  0.04188163 |       NA |           NA |\n",
       "\n"
      ],
      "text/plain": [
       "            Df  Sum Sq   Mean Sq     F value  Pr(>F)      \n",
       "Species       2 80.41333 40.20666667 960.0071 4.169446e-85\n",
       "Residuals   147  6.15660  0.04188163       NA           NA"
      ]
     },
     "metadata": {},
     "output_type": "display_data"
    }
   ],
   "source": [
    "# Somme des carrés\n",
    "anova_table <- summary(anova_model)[[1]]\n",
    "anova_table\n"
   ]
  },
  {
   "cell_type": "code",
   "execution_count": 26,
   "metadata": {
    "vscode": {
     "languageId": "r"
    }
   },
   "outputs": [
    {
     "data": {
      "image/png": "[encoded data removed]",
      "text/plain": [
       "Plot with title \"Normal Q-Q Plot\""
      ]
     },
     "metadata": {
      "image/png": {
       "height": 420,
       "width": 420
      }
     },
     "output_type": "display_data"
    }
   ],
   "source": [
    "# QQ plot pour diagnostiquer le modèle\n",
    "qqnorm(residuals(anova_model))\n",
    "qqline(residuals(anova_model), col = \"red\")\n"
   ]
  },
  {
   "cell_type": "code",
   "execution_count": 27,
   "metadata": {
    "vscode": {
     "languageId": "r"
    }
   },
   "outputs": [
    {
     "data": {
      "text/plain": [
       "\n",
       "\tKruskal-Wallis rank sum test\n",
       "\n",
       "data:  Petal.Width by Species\n",
       "Kruskal-Wallis chi-squared = 131.19, df = 2, p-value < 2.2e-16\n"
      ]
     },
     "metadata": {},
     "output_type": "display_data"
    }
   ],
   "source": [
    "# Test de Kruskal-Wallis comme test non-paramétrique\n",
    "kruskal.test(Petal.Width ~ Species, data = iris)\n"
   ]
  },
  {
   "cell_type": "markdown",
   "metadata": {},
   "source": [
    "5.2 Application aux données des MOOC"
   ]
  },
  {
   "cell_type": "code",
   "execution_count": 28,
   "metadata": {
    "vscode": {
     "languageId": "r"
    }
   },
   "outputs": [
    {
     "data": {
      "text/plain": [
       "\n",
       "\tWelch Two Sample t-test\n",
       "\n",
       "data:  Video_total by Gender\n",
       "t = -3.7603, df = 5879.2, p-value = 0.0001713\n",
       "alternative hypothesis: true difference in means between group un homme and group une femme is not equal to 0\n",
       "95 percent confidence interval:\n",
       " -1.4579783 -0.4587401\n",
       "sample estimates:\n",
       " mean in group un homme mean in group une femme \n",
       "               13.17876                14.13712 \n"
      ]
     },
     "metadata": {},
     "output_type": "display_data"
    }
   ],
   "source": [
    "t_test_result <- t.test(Video_total ~ Gender, data = merged)\n",
    "t_test_result"
   ]
  },
  {
   "cell_type": "code",
   "execution_count": 29,
   "metadata": {
    "vscode": {
     "languageId": "r"
    }
   },
   "outputs": [
    {
     "data": {
      "text/plain": [
       "\n",
       "\tWilcoxon rank sum test with continuity correction\n",
       "\n",
       "data:  Video_total by Gender\n",
       "W = 8712151, p-value = 0.0004358\n",
       "alternative hypothesis: true location shift is not equal to 0\n"
      ]
     },
     "metadata": {},
     "output_type": "display_data"
    }
   ],
   "source": [
    "# Test non-paramétrique : Test de Mann-Whitney\n",
    "wilcox_test_result <- wilcox.test(Video_total ~ Gender, data = merged)\n",
    "wilcox_test_result"
   ]
  },
  {
   "cell_type": "code",
   "execution_count": 30,
   "metadata": {
    "vscode": {
     "languageId": "r"
    }
   },
   "outputs": [
    {
     "data": {
      "text/html": [
       "0.805631639594503"
      ],
      "text/latex": [
       "0.805631639594503"
      ],
      "text/markdown": [
       "0.805631639594503"
      ],
      "text/plain": [
       "[1] 0.8056316"
      ]
     },
     "metadata": {},
     "output_type": "display_data"
    }
   ],
   "source": [
    "# Corrélation de Pearson entre les variables 'Videos_Vues' et 'Quiz_Realisés'\n",
    "pearson_corr <- cor(merged$Video_total, merged$quizzes_completed, method = \"pearson\")\n",
    "pearson_corr"
   ]
  },
  {
   "cell_type": "code",
   "execution_count": 31,
   "metadata": {
    "vscode": {
     "languageId": "r"
    }
   },
   "outputs": [
    {
     "data": {
      "text/html": [
       "0.799854322429024"
      ],
      "text/latex": [
       "0.799854322429024"
      ],
      "text/markdown": [
       "0.799854322429024"
      ],
      "text/plain": [
       "[1] 0.7998543"
      ]
     },
     "metadata": {},
     "output_type": "display_data"
    }
   ],
   "source": [
    "# Corrélation de Spearman entre les variables 'Videos_Vues' et 'Quiz_Realisés'\n",
    "spearman_corr <- cor(merged$Video_total , merged$quizzes_completed, method = \"spearman\")\n",
    "spearman_corr\n"
   ]
  },
  {
   "cell_type": "code",
   "execution_count": 32,
   "metadata": {
    "vscode": {
     "languageId": "r"
    }
   },
   "outputs": [
    {
     "data": {
      "text/plain": [
       "\n",
       "Call:\n",
       "lm(formula = Video_total ~ quizzes_completed, data = merged)\n",
       "\n",
       "Residuals:\n",
       "     Min       1Q   Median       3Q      Max \n",
       "-21.0309  -0.9266  -0.9266   3.9691  28.0734 \n",
       "\n",
       "Coefficients:\n",
       "                  Estimate Std. Error t value Pr(>|t|)    \n",
       "(Intercept)        0.92661    0.07081   13.09   <2e-16 ***\n",
       "quizzes_completed  4.02087    0.02400  167.55   <2e-16 ***\n",
       "---\n",
       "Signif. codes:  0 '***' 0.001 '**' 0.01 '*' 0.05 '.' 0.1 ' ' 1\n",
       "\n",
       "Residual standard error: 6.495 on 15180 degrees of freedom\n",
       "Multiple R-squared:  0.649,\tAdjusted R-squared:  0.649 \n",
       "F-statistic: 2.807e+04 on 1 and 15180 DF,  p-value: < 2.2e-16\n"
      ]
     },
     "metadata": {},
     "output_type": "display_data"
    }
   ],
   "source": [
    "# Modèle de régression linéaire\n",
    "lm_model <- lm(Video_total ~ quizzes_completed, data = merged)\n",
    "summary(lm_model)\n"
   ]
  },
  {
   "cell_type": "code",
   "execution_count": 33,
   "metadata": {
    "vscode": {
     "languageId": "r"
    }
   },
   "outputs": [
    {
     "name": "stderr",
     "output_type": "stream",
     "text": [
      "\u001b[1m\u001b[22m`geom_smooth()` using formula = 'y ~ x'\n"
     ]
    },
    {
     "data": {
      "image/png": "[encoded data removed]",
      "text/plain": [
       "plot without title"
      ]
     },
     "metadata": {
      "image/png": {
       "height": 420,
       "width": 420
      }
     },
     "output_type": "display_data"
    }
   ],
   "source": [
    "# Scatterplot avec régression linéaire\n",
    "library(ggplot2)\n",
    "ggplot(merged, aes(x = quizzes_completed, y = Video_total)) +\n",
    "  geom_point(aes(color = Gender)) +\n",
    "  geom_smooth(method = \"lm\", se = FALSE, color = \"black\") +\n",
    "  labs(title = \"Relation entre le nombre de quiz réalisés et le nombre de vidéos vues\",\n",
    "       x = \"Nombre de quiz réalisés\",\n",
    "       y = \"Nombre de vidéos vues\") +\n",
    "  theme_minimal()\n"
   ]
  },
  {
   "cell_type": "code",
   "execution_count": 34,
   "metadata": {
    "vscode": {
     "languageId": "r"
    }
   },
   "outputs": [
    {
     "data": {
      "text/plain": [
       "\n",
       "Call:\n",
       "lm(formula = Video_total ~ HDI_grouped + Gender - 1, data = merged)\n",
       "\n",
       "Residuals:\n",
       "    Min      1Q  Median      3Q     Max \n",
       "-14.917  -9.757  -2.756  13.083  22.713 \n",
       "\n",
       "Coefficients:\n",
       "                Estimate Std. Error t value Pr(>|t|)    \n",
       "HDI_groupedB      6.2868     0.3455   18.19   <2e-16 ***\n",
       "HDI_groupedI     10.4234     0.4367   23.87   <2e-16 ***\n",
       "HDI_groupedTH    14.7565     0.1566   94.23   <2e-16 ***\n",
       "Genderune femme   0.1607     0.2511    0.64    0.522    \n",
       "---\n",
       "Signif. codes:  0 '***' 0.001 '**' 0.01 '*' 0.05 '.' 0.1 ' ' 1\n",
       "\n",
       "Residual standard error: 11.03 on 8947 degrees of freedom\n",
       "  (6231 observations effacées parce que manquantes)\n",
       "Multiple R-squared:  0.6105,\tAdjusted R-squared:  0.6103 \n",
       "F-statistic:  3506 on 4 and 8947 DF,  p-value: < 2.2e-16\n"
      ]
     },
     "metadata": {},
     "output_type": "display_data"
    },
    {
     "data": {
      "text/html": [
       "<table class=\"dataframe\">\n",
       "<caption>A anova: 3 × 5</caption>\n",
       "<thead>\n",
       "\t<tr><th></th><th scope=col>Df</th><th scope=col>Sum Sq</th><th scope=col>Mean Sq</th><th scope=col>F value</th><th scope=col>Pr(&gt;F)</th></tr>\n",
       "\t<tr><th></th><th scope=col>&lt;int&gt;</th><th scope=col>&lt;dbl&gt;</th><th scope=col>&lt;dbl&gt;</th><th scope=col>&lt;dbl&gt;</th><th scope=col>&lt;dbl&gt;</th></tr>\n",
       "</thead>\n",
       "<tbody>\n",
       "\t<tr><th scope=row>HDI_grouped</th><td>   3</td><td>1.706154e+06</td><td>568717.99275</td><td>4674.5466879</td><td>0.000000</td></tr>\n",
       "\t<tr><th scope=row>Gender</th><td>   1</td><td>4.980383e+01</td><td>    49.80383</td><td>   0.4093599</td><td>0.522311</td></tr>\n",
       "\t<tr><th scope=row>Residuals</th><td>8947</td><td>1.088516e+06</td><td>   121.66270</td><td>          NA</td><td>      NA</td></tr>\n",
       "</tbody>\n",
       "</table>\n"
      ],
      "text/latex": [
       "A anova: 3 × 5\n",
       "\\begin{tabular}{r|lllll}\n",
       "  & Df & Sum Sq & Mean Sq & F value & Pr(>F)\\\\\n",
       "  & <int> & <dbl> & <dbl> & <dbl> & <dbl>\\\\\n",
       "\\hline\n",
       "\tHDI\\_grouped &    3 & 1.706154e+06 & 568717.99275 & 4674.5466879 & 0.000000\\\\\n",
       "\tGender &    1 & 4.980383e+01 &     49.80383 &    0.4093599 & 0.522311\\\\\n",
       "\tResiduals & 8947 & 1.088516e+06 &    121.66270 &           NA &       NA\\\\\n",
       "\\end{tabular}\n"
      ],
      "text/markdown": [
       "\n",
       "A anova: 3 × 5\n",
       "\n",
       "| <!--/--> | Df &lt;int&gt; | Sum Sq &lt;dbl&gt; | Mean Sq &lt;dbl&gt; | F value &lt;dbl&gt; | Pr(&gt;F) &lt;dbl&gt; |\n",
       "|---|---|---|---|---|---|\n",
       "| HDI_grouped |    3 | 1.706154e+06 | 568717.99275 | 4674.5466879 | 0.000000 |\n",
       "| Gender |    1 | 4.980383e+01 |     49.80383 |    0.4093599 | 0.522311 |\n",
       "| Residuals | 8947 | 1.088516e+06 |    121.66270 |           NA |       NA |\n",
       "\n"
      ],
      "text/plain": [
       "            Df   Sum Sq       Mean Sq      F value      Pr(>F)  \n",
       "HDI_grouped    3 1.706154e+06 568717.99275 4674.5466879 0.000000\n",
       "Gender         1 4.980383e+01     49.80383    0.4093599 0.522311\n",
       "Residuals   8947 1.088516e+06    121.66270           NA       NA"
      ]
     },
     "metadata": {},
     "output_type": "display_data"
    }
   ],
   "source": [
    "# Modèle linéaire : effet de l'HDI et du genre\n",
    "mod <- lm(Video_total ~ HDI_grouped + Gender - 1, data = merged)\n",
    "\n",
    "# Résumé du modèle\n",
    "summary(mod)\n",
    "\n",
    "# ANOVA du modèle\n",
    "anova_result <- anova(mod)\n",
    "anova_result"
   ]
  },
  {
   "cell_type": "markdown",
   "metadata": {},
   "source": [
    "On obtient ces Degrés de liberté car il existe 3 groupe pour l'HDI donc df=nbGroupe - 1 ==> dfHDI = 2 & dfGENDER = 1"
   ]
  },
  {
   "cell_type": "code",
   "execution_count": 35,
   "metadata": {
    "vscode": {
     "languageId": "r"
    }
   },
   "outputs": [
    {
     "data": {
      "text/plain": [
       "\n",
       "Call:\n",
       "lm(formula = Video_total ~ Gender * HDI_grouped, data = merged)\n",
       "\n",
       "Residuals:\n",
       "    Min      1Q  Median      3Q     Max \n",
       "-14.987  -9.719  -2.719  13.013  22.767 \n",
       "\n",
       "Coefficients:\n",
       "                              Estimate Std. Error t value Pr(>|t|)    \n",
       "(Intercept)                     6.2333     0.3712  16.794  < 2e-16 ***\n",
       "Genderune femme                 0.5354     0.9825   0.545    0.586    \n",
       "HDI_groupedI                    4.7111     0.6476   7.275 3.76e-13 ***\n",
       "HDI_groupedTH                   8.4854     0.4045  20.980  < 2e-16 ***\n",
       "Genderune femme:HDI_groupedI   -1.8618     1.3300  -1.400    0.162    \n",
       "Genderune femme:HDI_groupedTH  -0.2671     1.0193  -0.262    0.793    \n",
       "---\n",
       "Signif. codes:  0 '***' 0.001 '**' 0.01 '*' 0.05 '.' 0.1 ' ' 1\n",
       "\n",
       "Residual standard error: 11.03 on 8945 degrees of freedom\n",
       "  (6231 observations effacées parce que manquantes)\n",
       "Multiple R-squared:  0.06226,\tAdjusted R-squared:  0.06173 \n",
       "F-statistic: 118.8 on 5 and 8945 DF,  p-value: < 2.2e-16\n"
      ]
     },
     "metadata": {},
     "output_type": "display_data"
    }
   ],
   "source": [
    "# Modèle avec interaction entre Genre et HDI\n",
    "mod_interaction <- lm(Video_total ~ Gender * HDI_grouped, data = merged)\n",
    "anova_interaction <- anova(mod_interaction)\n",
    "summary(mod_interaction)"
   ]
  },
  {
   "cell_type": "code",
   "execution_count": 36,
   "metadata": {
    "vscode": {
     "languageId": "r"
    }
   },
   "outputs": [
    {
     "data": {
      "text/plain": [
       "\n",
       "\tKruskal-Wallis rank sum test\n",
       "\n",
       "data:  Video_total by Group\n",
       "Kruskal-Wallis chi-squared = 565.43, df = 5, p-value < 2.2e-16\n"
      ]
     },
     "metadata": {},
     "output_type": "display_data"
    }
   ],
   "source": [
    "# Kruskal-Wallis sur l'interaction entre Genre et HDI\n",
    "merged$Group <- interaction(merged$Gender, merged$HDI_grouped)\n",
    "kruskal_test <- kruskal.test(Video_total ~ Group, data = merged)\n",
    "kruskal_test"
   ]
  },
  {
   "cell_type": "markdown",
   "metadata": {},
   "source": [
    "6. Regression Logistique"
   ]
  },
  {
   "cell_type": "code",
   "execution_count": 37,
   "metadata": {
    "vscode": {
     "languageId": "r"
    }
   },
   "outputs": [
    {
     "name": "stderr",
     "output_type": "stream",
     "text": [
      "Waiting for profiling to be done...\n",
      "\n"
     ]
    },
    {
     "name": "stdout",
     "output_type": "stream",
     "text": [
      "                      Variable    OR CI_lower CI_upper      p_value Signif\n",
      "(Intercept)          Référence   Réf    0.139    0.197 2.617757e-90    ***\n",
      "Genderune femme Gender (Femme) 1.122    1.001    1.256 4.721344e-02      *\n",
      "HDI_groupedI           HDI (I) 1.119    0.852    1.465 4.155481e-01     ns\n",
      "HDI_groupedTH         HDI (TH) 1.372    1.144    1.656 7.860479e-04    ***\n"
     ]
    }
   ],
   "source": [
    "# Modèle de régression logistique\n",
    "mod_logit <- glm(Exam.bin ~ Gender + HDI_grouped, data = merged, family = \"binomial\")\n",
    "\n",
    "# Résumé du modèle\n",
    "summary_mod <- summary(mod_logit)\n",
    "\n",
    "# Calcul des Odds Ratios, intervalles de confiance et p-values\n",
    "odds_ratios <- exp(coef(mod_logit))  # Exponentiation des coefficients\n",
    "conf_int <- exp(confint(mod_logit))  # Intervalles de confiance\n",
    "p_values <- coef(summary(mod_logit))[, 4]  # Extraction des p-values\n",
    "\n",
    "# Création de la table des résultats\n",
    "results_table <- data.frame(\n",
    "  Variable = c(\"Référence\", \"Gender (Femme)\", \"HDI (I)\", \"HDI (TH)\"),\n",
    "  OR = round(odds_ratios, 3),\n",
    "  CI_lower = round(conf_int[, 1], 3),\n",
    "  CI_upper = round(conf_int[, 2], 3),\n",
    "  p_value = p_values\n",
    ")\n",
    "\n",
    "# Ajout des étoiles pour les p-values\n",
    "results_table$Signif <- ifelse(results_table$p_value < 0.001, \"***\",\n",
    "                      ifelse(results_table$p_value < 0.01, \"**\",\n",
    "                      ifelse(results_table$p_value < 0.05, \"*\", \"ns\")))\n",
    "\n",
    "# Format final\n",
    "results_table[1, \"OR\"] <- \"Réf\"  # La modalité de référence\n",
    "print(results_table)\n"
   ]
  },
  {
   "cell_type": "markdown",
   "metadata": {},
   "source": [
    "Le genre \"Femme\" a un Odds Ratio de 1.122, ce qui signifie que les femmes ont 12.2 % plus de chances de réussite que les hommes, bien que cela ne soit pas statistiquement très significatif (p-value < 0.05).\n",
    "\n",
    "Le HDI Intermédiaire a un Odds Ratio de 1.119, mais il n'est pas statistiquement significatif (p-value > 0.05)\n",
    "\n",
    "Le HDI Très Haut a un Odds Ratio de 1.372, et il est statistiquement significatif (p-value < 0.001)\n",
    "\n",
    "L'étude précédente avec le nombre de vidéos vues avait montré que cette donnée variait et que cette effet était statistiquement significatif selon l'HDI mais pas selon le Genre\n",
    "\n",
    "l'Odd ratio permet de mesurer l'association entre les variables explicatives (ici Genre et HDI) et la variable dépendante binaire (ici la réussite ou non). L'Odd Ratio se calcule avec le nombre d'événements alors que le Risk Ratio se calcule à partir des probabilités d'un événement entre 2 groupes. Lorsque les probabilités d’un événement sont faibles, l’OR et le RR convergent et donnent des résultats similaires. Lorsque les probabilités d’un événement sont élevées, l’OR à tendance à exagérer l’association par rapport au RR."
   ]
  },
  {
   "cell_type": "code",
   "execution_count": 38,
   "metadata": {
    "vscode": {
     "languageId": "r"
    }
   },
   "outputs": [
    {
     "data": {
      "image/png": "[encoded data removed]",
      "text/plain": [
       "plot without title"
      ]
     },
     "metadata": {
      "image/png": {
       "height": 420,
       "width": 420
      }
     },
     "output_type": "display_data"
    }
   ],
   "source": [
    "# Préparation des données pour le forest plot\n",
    "forest_data <- results_table[-1, ]  # Exclure la référence\n",
    "forest_data$Variable <- factor(forest_data$Variable, levels = forest_data$Variable)\n",
    "\n",
    "# Création du forest plot\n",
    "ggplot(forest_data, aes(x = Variable, y = OR, ymin = CI_lower, ymax = CI_upper)) +\n",
    "  geom_pointrange(size = 1, color = \"blue\") +\n",
    "  geom_hline(yintercept = 1, linetype = \"dashed\", color = \"red\") +\n",
    "  coord_flip() +\n",
    "  labs(title = \"Forest Plot des Odd-Ratios\",\n",
    "       x = \"Variables\",\n",
    "       y = \"Odd-Ratio (IC à 95%)\") +\n",
    "  theme_minimal()\n"
   ]
  },
  {
   "cell_type": "markdown",
   "metadata": {},
   "source": [
    "Notes de Maths & Prix"
   ]
  },
  {
   "cell_type": "code",
   "execution_count": 39,
   "metadata": {
    "vscode": {
     "languageId": "r"
    }
   },
   "outputs": [
    {
     "name": "stderr",
     "output_type": "stream",
     "text": [
      "\u001b[1mRows: \u001b[22m\u001b[34m200\u001b[39m \u001b[1mColumns: \u001b[22m\u001b[34m2\u001b[39m\n",
      "\u001b[36m──\u001b[39m \u001b[1mColumn specification\u001b[22m \u001b[36m────────────────────────────────────────────────────────\u001b[39m\n",
      "\u001b[1mDelimiter:\u001b[22m \",\"\n",
      "\u001b[32mdbl\u001b[39m (2): Awards, Math Score\n",
      "\n",
      "\u001b[36mℹ\u001b[39m Use `spec()` to retrieve the full column specification for this data.\n",
      "\u001b[36mℹ\u001b[39m Specify the column types or set `show_col_types = FALSE` to quiet this message.\n"
     ]
    }
   ],
   "source": [
    "notes_maths <- read_csv(\"Data//maths_competition_awards_data.csv\")"
   ]
  },
  {
   "cell_type": "code",
   "execution_count": 40,
   "metadata": {
    "vscode": {
     "languageId": "r"
    }
   },
   "outputs": [
    {
     "name": "stdout",
     "output_type": "stream",
     "text": [
      "spc_tbl_ [200 × 2] (S3: spec_tbl_df/tbl_df/tbl/data.frame)\n",
      " $ Awards    : num [1:200] 0 0 0 0 0 0 0 0 0 0 ...\n",
      " $ Math Score: num [1:200] 43 38 41 33 39 43 35 41 36 38 ...\n",
      " - attr(*, \"spec\")=\n",
      "  .. cols(\n",
      "  ..   Awards = \u001b[32mcol_double()\u001b[39m,\n",
      "  ..   `Math Score` = \u001b[32mcol_double()\u001b[39m\n",
      "  .. )\n",
      " - attr(*, \"problems\")=<externalptr> \n"
     ]
    }
   ],
   "source": [
    "str(notes_maths)"
   ]
  },
  {
   "cell_type": "code",
   "execution_count": 41,
   "metadata": {
    "vscode": {
     "languageId": "r"
    }
   },
   "outputs": [
    {
     "name": "stderr",
     "output_type": "stream",
     "text": [
      "\u001b[1m\u001b[22mJoining with `by = join_by(Awards, `Math Score`)`\n"
     ]
    },
    {
     "data": {
      "image/png": "[encoded data removed]",
      "text/plain": [
       "plot without title"
      ]
     },
     "metadata": {
      "image/png": {
       "height": 420,
       "width": 420
      }
     },
     "output_type": "display_data"
    },
    {
     "data": {
      "image/png": "[encoded data removed]",
      "text/plain": [
       "plot without title"
      ]
     },
     "metadata": {
      "image/png": {
       "height": 420,
       "width": 420
      }
     },
     "output_type": "display_data"
    }
   ],
   "source": [
    "# 6.2 Traitement de données de comptage-type : la loi de Poisson\n",
    "\n",
    "# Sélection aléatoire de 80% des données pour l'entraînement\n",
    "set.seed(123)  # Pour la reproductibilité\n",
    "training_data <- notes_maths %>% sample_frac(0.8)\n",
    "test_data <- anti_join(notes_maths, training_data)\n",
    "\n",
    "# Distribution des notes en mathématiques\n",
    "ggplot(training_data, aes(x = `Math Score`)) +\n",
    "    geom_histogram(binwidth = 1, fill = \"lightblue\", color = \"darkblue\") +\n",
    "    labs(title = \"Distribution des notes en mathématiques\",\n",
    "             x = \"Note\",\n",
    "             y = \"Fréquence\") +\n",
    "    theme_minimal()\n",
    "\n",
    "# Distribution des récompenses\n",
    "ggplot(training_data, aes(x = Awards)) +\n",
    "    geom_histogram(binwidth = 1, fill = \"lightblue\", color = \"darkblue\") +\n",
    "    labs(title = \"Distribution des récompenses\",\n",
    "             x = \"Récompenses\",\n",
    "             y = \"Fréquence\") +\n",
    "    theme_minimal()\n",
    "\n",
    "# Modèle de régression de Poisson\n",
    "poisson_model <- glm(Awards ~ `Math Score`, data = training_data, family = \"poisson\")"
   ]
  },
  {
   "cell_type": "code",
   "execution_count": 42,
   "metadata": {
    "vscode": {
     "languageId": "r"
    }
   },
   "outputs": [
    {
     "data": {
      "image/png": "[encoded data removed]",
      "text/plain": [
       "Plot with title \"Normal Q-Q Plot\""
      ]
     },
     "metadata": {
      "image/png": {
       "height": 420,
       "width": 420
      }
     },
     "output_type": "display_data"
    }
   ],
   "source": [
    "# Diagnostic du modèle\n",
    "qqnorm(residuals(poisson_model))\n",
    "qqline(residuals(poisson_model), col = \"red\")"
   ]
  },
  {
   "cell_type": "markdown",
   "metadata": {},
   "source": [
    "Un QQplot est un graphique utilisé pour comparer la distribution d'une variable avec une distribution théorique. Les points alignés sur la diagonale indiquent que les données suivent bien la distribution attendue. Les écarts par rapport à cette diagonale signalent des déviations dans la distribution des données."
   ]
  },
  {
   "cell_type": "code",
   "execution_count": 43,
   "metadata": {
    "vscode": {
     "languageId": "r"
    }
   },
   "outputs": [],
   "source": [
    "# Prédictions sur les données d'entraînement\n",
    "training_data$predicted <- predict(poisson_model, type = \"response\")"
   ]
  },
  {
   "cell_type": "code",
   "execution_count": 44,
   "metadata": {
    "vscode": {
     "languageId": "r"
    }
   },
   "outputs": [
    {
     "name": "stderr",
     "output_type": "stream",
     "text": [
      "Warning message:\n",
      "\"\u001b[1m\u001b[22mUsing `size` aesthetic for lines was deprecated in ggplot2 3.4.0.\n",
      "\u001b[36mℹ\u001b[39m Please use `linewidth` instead.\"\n"
     ]
    },
    {
     "data": {
      "image/png": "[encoded data removed]",
      "text/plain": [
       "plot without title"
      ]
     },
     "metadata": {
      "image/png": {
       "height": 420,
       "width": 420
      }
     },
     "output_type": "display_data"
    }
   ],
   "source": [
    "# Scatter plot avec données empiriques et prédictions\n",
    "ggplot(training_data, aes(x = `Math Score`, y = Awards)) +\n",
    "  geom_point(color = \"blue\", alpha = 0.6) + # Points pour les données empiriques\n",
    "  geom_line(aes(y = predicted), color = \"red\", size = 1) + # Ligne pour les prédictions\n",
    "  labs(\n",
    "    title = \"Relation entre Math Score et Awards (Données d'entraînement)\",\n",
    "    x = \"Math Score\",\n",
    "    y = \"Awards\"\n",
    "  ) +\n",
    "  theme_minimal()\n"
   ]
  },
  {
   "cell_type": "markdown",
   "metadata": {},
   "source": [
    "Le type d'erreur convenable ici est la Déviance residuelle"
   ]
  },
  {
   "cell_type": "code",
   "execution_count": 45,
   "metadata": {
    "vscode": {
     "languageId": "r"
    }
   },
   "outputs": [],
   "source": [
    "# Prédictions sur les données de test\n",
    "test_data$predicted <- predict(poisson_model, newdata = test_data, type = \"response\")"
   ]
  },
  {
   "cell_type": "code",
   "execution_count": 46,
   "metadata": {
    "vscode": {
     "languageId": "r"
    }
   },
   "outputs": [
    {
     "data": {
      "image/png": "[encoded data removed]",
      "text/plain": [
       "plot without title"
      ]
     },
     "metadata": {
      "image/png": {
       "height": 420,
       "width": 420
      }
     },
     "output_type": "display_data"
    }
   ],
   "source": [
    "# Scatter plot avec données empiriques et prédictions pour les données de test\n",
    "ggplot(test_data, aes(x = `Math Score`, y = Awards)) +\n",
    "  geom_point(color = \"blue\", alpha = 0.6) + # Points pour les données empiriques\n",
    "  geom_line(aes(y = predicted), color = \"red\", size = 1) + # Ligne pour les prédictions\n",
    "  labs(\n",
    "    title = \"Relation entre Math Score et Awards (Données de test)\",\n",
    "    x = \"Math Score\",\n",
    "    y = \"Awards\"\n",
    "  ) +\n",
    "  theme_minimal()"
   ]
  },
  {
   "cell_type": "code",
   "execution_count": 47,
   "metadata": {
    "vscode": {
     "languageId": "r"
    }
   },
   "outputs": [
    {
     "name": "stdout",
     "output_type": "stream",
     "text": [
      "MSE sur les données d'entraînement : 0.1469121 \n",
      "MSE sur les données de test : 0.8163145 \n"
     ]
    }
   ],
   "source": [
    "# Calcul de l'erreur quadratique moyenne (MSE) pour les données d'entraînement\n",
    "mse_training <- mean((training_data$Awards - training_data$predicted)^2)\n",
    "\n",
    "# Calcul de l'erreur quadratique moyenne (MSE) pour les données de test\n",
    "mse_test <- mean((test_data$Awards - test_data$predicted)^2)\n",
    "\n",
    "# Affichage des résultats\n",
    "cat(\"MSE sur les données d'entraînement :\", mse_training, \"\\n\")\n",
    "cat(\"MSE sur les données de test :\", mse_test, \"\\n\")"
   ]
  },
  {
   "cell_type": "code",
   "execution_count": 48,
   "metadata": {
    "vscode": {
     "languageId": "r"
    }
   },
   "outputs": [
    {
     "data": {
      "image/png": "[encoded data removed]",
      "text/plain": [
       "plot without title"
      ]
     },
     "metadata": {
      "image/png": {
       "height": 420,
       "width": 420
      }
     },
     "output_type": "display_data"
    }
   ],
   "source": [
    "ggplot(df_MOOC, aes(x = Video_total)) +\n",
    "    geom_histogram(binwidth = 5, fill = \"lightblue\", color = \"darkblue\") +\n",
    "    labs(\n",
    "        title = \"Distribution du nombre de vidéos vues\",\n",
    "        x = \"Nombre de vidéos vues\",\n",
    "        y = \"Effectif\"\n",
    "    ) +\n",
    "    theme_minimal()"
   ]
  },
  {
   "cell_type": "markdown",
   "metadata": {},
   "source": [
    "Le modèle est Zero-inflated et on a de la sur-dispertion\n",
    "Dans le contexte d’un MOOC, la variance du \"nombre de vidéos vues\" est souvent beaucoup plus grande que la moyenne qui est dû à des comportements hétérogènes et beaucoup de compte sont créer mais n'ont pas d'activités.\n",
    "\n",
    "C'est un problème pour l'analyse on doit donc utiliser des modèles Poisson spécifiques"
   ]
  },
  {
   "cell_type": "code",
   "execution_count": 49,
   "metadata": {
    "vscode": {
     "languageId": "r"
    }
   },
   "outputs": [
    {
     "name": "stderr",
     "output_type": "stream",
     "text": [
      "\n",
      "Attachement du package : 'MASS'\n",
      "\n",
      "\n",
      "L'objet suivant est masqué depuis 'package:dplyr':\n",
      "\n",
      "    select\n",
      "\n",
      "\n"
     ]
    }
   ],
   "source": [
    "# Modèle binomial négatif\n",
    "library(MASS)\n",
    "nb_model <- glm.nb(Video_total ~ quizzes_completed + Gender, data = merged)\n"
   ]
  },
  {
   "cell_type": "code",
   "execution_count": 59,
   "metadata": {
    "vscode": {
     "languageId": "r"
    }
   },
   "outputs": [],
   "source": [
    "# Ajustement du modèle GLM avec une loi de Poisson\n",
    "poisson_model <- glm(Video_total ~ Gender + HDI_grouped, \n",
    "                     family = poisson(link = \"log\"), \n",
    "                     data = merged)"
   ]
  },
  {
   "cell_type": "code",
   "execution_count": 71,
   "metadata": {
    "vscode": {
     "languageId": "r"
    }
   },
   "outputs": [],
   "source": [
    "zero_infalted_poisson <- zeroinfl(Video_total ~ Gender + HDI_grouped | 1, data = merged, dist = \"poisson\")"
   ]
  },
  {
   "cell_type": "code",
   "execution_count": 82,
   "metadata": {
    "vscode": {
     "languageId": "r"
    }
   },
   "outputs": [],
   "source": [
    "quasi_poisson_model <- zeroinfl(Video_total ~ quizzes_completed + Gender, data = merged, dist = \"poisson\")"
   ]
  },
  {
   "cell_type": "code",
   "execution_count": 68,
   "metadata": {
    "vscode": {
     "languageId": "r"
    }
   },
   "outputs": [
    {
     "data": {
      "text/plain": [
       "\n",
       "Call:\n",
       "zeroinfl(formula = Video_total ~ quizzes_completed + Gender | 1, data = merged, \n",
       "    dist = \"negbin\")\n",
       "\n",
       "Pearson residuals:\n",
       "    Min      1Q  Median      3Q     Max \n",
       "-1.3719 -0.8417  0.1948  0.4742  9.8960 \n",
       "\n",
       "Count model coefficients (negbin with log link):\n",
       "                  Estimate Std. Error z value Pr(>|z|)    \n",
       "(Intercept)       1.142340   0.019999  57.120  < 2e-16 ***\n",
       "quizzes_completed 0.394510   0.004633  85.153  < 2e-16 ***\n",
       "Genderune femme   0.065923   0.016301   4.044 5.25e-05 ***\n",
       "Log(theta)        0.989929   0.025121  39.406  < 2e-16 ***\n",
       "\n",
       "Zero-inflation model coefficients (binomial with logit link):\n",
       "            Estimate Std. Error z value Pr(>|z|)    \n",
       "(Intercept) -2.48175    0.05847  -42.44   <2e-16 ***\n",
       "---\n",
       "Signif. codes:  0 '***' 0.001 '**' 0.01 '*' 0.05 '.' 0.1 ' ' 1 \n",
       "\n",
       "Theta = 2.691 \n",
       "Number of iterations in BFGS optimization: 15 \n",
       "Log-likelihood: -2.985e+04 on 5 Df"
      ]
     },
     "metadata": {},
     "output_type": "display_data"
    }
   ],
   "source": [
    "library(pscl)\n",
    "\n",
    "# Ajuster un modèle Zero Inflated Negative Binomial\n",
    "zinb_model <- zeroinfl(Video_total ~ quizzes_completed + Gender | 1, \n",
    "                       data = merged, \n",
    "                       dist = \"negbin\")\n",
    "\n",
    "# Résumé du modèle\n",
    "summary(zinb_model)"
   ]
  },
  {
   "cell_type": "code",
   "execution_count": 83,
   "metadata": {
    "vscode": {
     "languageId": "r"
    }
   },
   "outputs": [
    {
     "name": "stderr",
     "output_type": "stream",
     "text": [
      "Warning message in AIC.default(poisson_model, zero_infalted_poisson, quasi_poisson_model, :\n",
      "\"tous les modèles n'ont pas été ajustés sur le même nombre d'observations\"\n"
     ]
    },
    {
     "data": {
      "text/html": [
       "<table class=\"dataframe\">\n",
       "<caption>A data.frame: 5 × 2</caption>\n",
       "<thead>\n",
       "\t<tr><th></th><th scope=col>df</th><th scope=col>AIC</th></tr>\n",
       "\t<tr><th></th><th scope=col>&lt;dbl&gt;</th><th scope=col>&lt;dbl&gt;</th></tr>\n",
       "</thead>\n",
       "<tbody>\n",
       "\t<tr><th scope=row>poisson_model</th><td>4</td><td>129403.87</td></tr>\n",
       "\t<tr><th scope=row>zero_infalted_poisson</th><td>5</td><td>101955.54</td></tr>\n",
       "\t<tr><th scope=row>quasi_poisson_model</th><td>6</td><td> 72960.71</td></tr>\n",
       "\t<tr><th scope=row>nb_model</th><td>4</td><td> 60404.09</td></tr>\n",
       "\t<tr><th scope=row>zinb_model</th><td>5</td><td> 59707.48</td></tr>\n",
       "</tbody>\n",
       "</table>\n"
      ],
      "text/latex": [
       "A data.frame: 5 × 2\n",
       "\\begin{tabular}{r|ll}\n",
       "  & df & AIC\\\\\n",
       "  & <dbl> & <dbl>\\\\\n",
       "\\hline\n",
       "\tpoisson\\_model & 4 & 129403.87\\\\\n",
       "\tzero\\_infalted\\_poisson & 5 & 101955.54\\\\\n",
       "\tquasi\\_poisson\\_model & 6 &  72960.71\\\\\n",
       "\tnb\\_model & 4 &  60404.09\\\\\n",
       "\tzinb\\_model & 5 &  59707.48\\\\\n",
       "\\end{tabular}\n"
      ],
      "text/markdown": [
       "\n",
       "A data.frame: 5 × 2\n",
       "\n",
       "| <!--/--> | df &lt;dbl&gt; | AIC &lt;dbl&gt; |\n",
       "|---|---|---|\n",
       "| poisson_model | 4 | 129403.87 |\n",
       "| zero_infalted_poisson | 5 | 101955.54 |\n",
       "| quasi_poisson_model | 6 |  72960.71 |\n",
       "| nb_model | 4 |  60404.09 |\n",
       "| zinb_model | 5 |  59707.48 |\n",
       "\n"
      ],
      "text/plain": [
       "                      df AIC      \n",
       "poisson_model         4  129403.87\n",
       "zero_infalted_poisson 5  101955.54\n",
       "quasi_poisson_model   6   72960.71\n",
       "nb_model              4   60404.09\n",
       "zinb_model            5   59707.48"
      ]
     },
     "metadata": {},
     "output_type": "display_data"
    }
   ],
   "source": [
    "# Comparaison des AIC\n",
    "AIC(poisson_model, zero_infalted_poisson, quasi_poisson_model, nb_model, zinb_model)"
   ]
  },
  {
   "cell_type": "markdown",
   "metadata": {},
   "source": [
    "On a comparé les AIC (Akaike Informational Criteria) pour vérifier quel était le meilleur modèle. Le ZINB est donc le plus ajusté."
   ]
  },
  {
   "cell_type": "code",
   "execution_count": 52,
   "metadata": {
    "vscode": {
     "languageId": "r"
    }
   },
   "outputs": [
    {
     "data": {
      "image/png": "[encoded data removed]",
      "text/plain": [
       "Plot with title \"\""
      ]
     },
     "metadata": {
      "image/png": {
       "height": 420,
       "width": 420
      }
     },
     "output_type": "display_data"
    }
   ],
   "source": [
    "# Graphes de diagnostic pour le modèle ajusté\n",
    "par(mfrow = c(2, 2)) # Afficher 4 graphiques sur une même page\n",
    "plot(poisson_model)"
   ]
  },
  {
   "cell_type": "markdown",
   "metadata": {},
   "source": [
    "QQ-Plot : Les points doivent être alignés le long de la ligne diagonale, des déviations indiquent une absence de normalité.\n",
    "\n",
    "Homoscédasticité : Elle correspond à une variance constante des résidus autour de zéro.\n",
    "\n",
    "Si la variable était normalement distribuée, les résidus seraient parfaitement centrés autour de zéro (QQ-Plot aligné, homoscédasticité parfaite)"
   ]
  },
  {
   "cell_type": "code",
   "execution_count": 53,
   "metadata": {
    "vscode": {
     "languageId": "r"
    }
   },
   "outputs": [
    {
     "data": {
      "text/plain": [
       "\n",
       "Call:\n",
       "glm(formula = Video_total ~ Gender + HDI_grouped, family = poisson(link = \"log\"), \n",
       "    data = merged)\n",
       "\n",
       "Coefficients:\n",
       "                Estimate Std. Error z value Pr(>|z|)    \n",
       "(Intercept)     1.840437   0.012434 148.022   <2e-16 ***\n",
       "Genderune femme 0.011522   0.006091   1.892   0.0585 .  \n",
       "HDI_groupedI    0.504951   0.017290  29.206   <2e-16 ***\n",
       "HDI_groupedTH   0.851001   0.012835  66.301   <2e-16 ***\n",
       "---\n",
       "Signif. codes:  0 '***' 0.001 '**' 0.01 '*' 0.05 '.' 0.1 ' ' 1\n",
       "\n",
       "(Dispersion parameter for poisson family taken to be 1)\n",
       "\n",
       "    Null deviance: 103480  on 8950  degrees of freedom\n",
       "Residual deviance:  97166  on 8947  degrees of freedom\n",
       "  (6231 observations effacées parce que manquantes)\n",
       "AIC: 129404\n",
       "\n",
       "Number of Fisher Scoring iterations: 5\n"
      ]
     },
     "metadata": {},
     "output_type": "display_data"
    }
   ],
   "source": [
    "# Résumé du modèle\n",
    "summary(poisson_model)"
   ]
  },
  {
   "cell_type": "markdown",
   "metadata": {},
   "source": [
    "On remarque que l'effet du genre n'est pas significatif (p-value > 0.05) et que la taille de l'effet est très faible\n",
    "\n",
    "l'effet de l'HDI est lui statistiquement significatif (p-value < 0.001). Les apprenants des pays à HDI intermédiaire regardent environ 66 % de vidéos de plus que ceux des pays à faible HDI. Ceux des pays à très haut HDI regardent plus du double des vidéos."
   ]
  },
  {
   "cell_type": "markdown",
   "metadata": {},
   "source": [
    "7 - Exercices d’approfondissement : de l’ANOVA en autonomie à la multicolinéarité\n"
   ]
  },
  {
   "cell_type": "code",
   "execution_count": 54,
   "metadata": {
    "vscode": {
     "languageId": "r"
    }
   },
   "outputs": [
    {
     "name": "stderr",
     "output_type": "stream",
     "text": [
      "\u001b[1mRows: \u001b[22m\u001b[34m205\u001b[39m \u001b[1mColumns: \u001b[22m\u001b[34m26\u001b[39m\n",
      "\u001b[36m──\u001b[39m \u001b[1mColumn specification\u001b[22m \u001b[36m────────────────────────────────────────────────────────\u001b[39m\n",
      "\u001b[1mDelimiter:\u001b[22m \",\"\n",
      "\u001b[31mchr\u001b[39m (10): name, fueltypes, aspiration, doornumbers, carbody, drivewheels, en...\n",
      "\u001b[32mdbl\u001b[39m (16): ID, symboling, wheelbase, carlength, carwidth, carheight, curbweig...\n",
      "\n",
      "\u001b[36mℹ\u001b[39m Use `spec()` to retrieve the full column specification for this data.\n",
      "\u001b[36mℹ\u001b[39m Specify the column types or set `show_col_types = FALSE` to quiet this message.\n"
     ]
    }
   ],
   "source": [
    "price_pred <- read_csv(\"Data//scrap price.csv\")"
   ]
  },
  {
   "cell_type": "code",
   "execution_count": 55,
   "metadata": {
    "vscode": {
     "languageId": "r"
    }
   },
   "outputs": [
    {
     "name": "stdout",
     "output_type": "stream",
     "text": [
      "spc_tbl_ [205 × 26] (S3: spec_tbl_df/tbl_df/tbl/data.frame)\n",
      " $ ID              : num [1:205] 1 2 3 4 5 6 7 8 9 10 ...\n",
      " $ symboling       : num [1:205] 3 3 1 2 2 2 1 1 1 0 ...\n",
      " $ name            : chr [1:205] \"alfa-romero giulia\" \"alfa-romero stelvio\" \"alfa-romero Quadrifoglio\" \"audi 100 ls\" ...\n",
      " $ fueltypes       : chr [1:205] \"gas\" \"gas\" \"gas\" \"gas\" ...\n",
      " $ aspiration      : chr [1:205] \"std\" \"std\" \"std\" \"std\" ...\n",
      " $ doornumbers     : chr [1:205] \"two\" \"two\" \"two\" \"four\" ...\n",
      " $ carbody         : chr [1:205] \"convertible\" \"convertible\" \"hatchback\" \"sedan\" ...\n",
      " $ drivewheels     : chr [1:205] \"rwd\" \"rwd\" \"rwd\" \"fwd\" ...\n",
      " $ enginelocation  : chr [1:205] \"front\" \"front\" \"front\" \"front\" ...\n",
      " $ wheelbase       : num [1:205] 88.6 88.6 94.5 99.8 99.4 ...\n",
      " $ carlength       : num [1:205] 169 169 171 177 177 ...\n",
      " $ carwidth        : num [1:205] 64.1 64.1 65.5 66.2 66.4 66.3 71.4 71.4 71.4 67.9 ...\n",
      " $ carheight       : num [1:205] 48.8 48.8 52.4 54.3 54.3 53.1 55.7 55.7 55.9 52 ...\n",
      " $ curbweight      : num [1:205] 2548 2548 2823 2337 2824 ...\n",
      " $ enginetype      : chr [1:205] \"dohc\" \"dohc\" \"ohcv\" \"ohc\" ...\n",
      " $ cylindernumber  : chr [1:205] \"four\" \"four\" \"six\" \"four\" ...\n",
      " $ enginesize      : num [1:205] 130 130 152 109 136 136 136 136 131 131 ...\n",
      " $ fuelsystem      : chr [1:205] \"mpfi\" \"mpfi\" \"mpfi\" \"mpfi\" ...\n",
      " $ boreratio       : num [1:205] 3.47 3.47 2.68 3.19 3.19 3.19 3.19 3.19 3.13 3.13 ...\n",
      " $ stroke          : num [1:205] 2.68 2.68 3.47 3.4 3.4 3.4 3.4 3.4 3.4 3.4 ...\n",
      " $ compressionratio: num [1:205] 9 9 9 10 8 8.5 8.5 8.5 8.3 7 ...\n",
      " $ horsepower      : num [1:205] 111 111 154 102 115 110 110 110 140 160 ...\n",
      " $ peakrpm         : num [1:205] 5000 5000 5000 5500 5500 5500 5500 5500 5500 5500 ...\n",
      " $ citympg         : num [1:205] 21 21 19 24 18 19 19 19 17 16 ...\n",
      " $ highwaympg      : num [1:205] 27 27 26 30 22 25 25 25 20 22 ...\n",
      " $ price           : num [1:205] 13495 16500 16500 13950 17450 ...\n",
      " - attr(*, \"spec\")=\n",
      "  .. cols(\n",
      "  ..   ID = \u001b[32mcol_double()\u001b[39m,\n",
      "  ..   symboling = \u001b[32mcol_double()\u001b[39m,\n",
      "  ..   name = \u001b[31mcol_character()\u001b[39m,\n",
      "  ..   fueltypes = \u001b[31mcol_character()\u001b[39m,\n",
      "  ..   aspiration = \u001b[31mcol_character()\u001b[39m,\n",
      "  ..   doornumbers = \u001b[31mcol_character()\u001b[39m,\n",
      "  ..   carbody = \u001b[31mcol_character()\u001b[39m,\n",
      "  ..   drivewheels = \u001b[31mcol_character()\u001b[39m,\n",
      "  ..   enginelocation = \u001b[31mcol_character()\u001b[39m,\n",
      "  ..   wheelbase = \u001b[32mcol_double()\u001b[39m,\n",
      "  ..   carlength = \u001b[32mcol_double()\u001b[39m,\n",
      "  ..   carwidth = \u001b[32mcol_double()\u001b[39m,\n",
      "  ..   carheight = \u001b[32mcol_double()\u001b[39m,\n",
      "  ..   curbweight = \u001b[32mcol_double()\u001b[39m,\n",
      "  ..   enginetype = \u001b[31mcol_character()\u001b[39m,\n",
      "  ..   cylindernumber = \u001b[31mcol_character()\u001b[39m,\n",
      "  ..   enginesize = \u001b[32mcol_double()\u001b[39m,\n",
      "  ..   fuelsystem = \u001b[31mcol_character()\u001b[39m,\n",
      "  ..   boreratio = \u001b[32mcol_double()\u001b[39m,\n",
      "  ..   stroke = \u001b[32mcol_double()\u001b[39m,\n",
      "  ..   compressionratio = \u001b[32mcol_double()\u001b[39m,\n",
      "  ..   horsepower = \u001b[32mcol_double()\u001b[39m,\n",
      "  ..   peakrpm = \u001b[32mcol_double()\u001b[39m,\n",
      "  ..   citympg = \u001b[32mcol_double()\u001b[39m,\n",
      "  ..   highwaympg = \u001b[32mcol_double()\u001b[39m,\n",
      "  ..   price = \u001b[32mcol_double()\u001b[39m\n",
      "  .. )\n",
      " - attr(*, \"problems\")=<externalptr> \n"
     ]
    }
   ],
   "source": [
    "str(price_pred)"
   ]
  },
  {
   "cell_type": "code",
   "execution_count": 56,
   "metadata": {
    "vscode": {
     "languageId": "r"
    }
   },
   "outputs": [
    {
     "name": "stdout",
     "output_type": "stream",
     "text": [
      "[1] \"Variables aliasées détectées :\"\n",
      " [1] \"carbodywagon\"         \"enginetypedohcv\"      \"enginetypel\"         \n",
      " [4] \"enginetypeohcf\"       \"cylindernumberfive\"   \"cylindernumbersix\"   \n",
      " [7] \"cylindernumberthree\"  \"cylindernumbertwelve\" \"cylindernumbertwo\"   \n",
      "[10] \"fuelsystem4bbl\"       \"fuelsystemidi\"        \"fuelsystemmfi\"       \n",
      "[1] \"Erreur dans le calcul du VIF, vérifier les données ou la structure du modèle.\"\n"
     ]
    }
   ],
   "source": [
    "# Étape 2 : Créer un modèle initial\n",
    "modele_initial <- lm(price ~ ., data = price_pred)\n",
    "\n",
    "# Identifier les coefficients aliasés\n",
    "alias_info <- alias(modele_initial)$Complete\n",
    "if (!is.null(alias_info)) {\n",
    "  print(\"Variables aliasées détectées :\")\n",
    "  print(rownames(alias_info))\n",
    "  # Supprimer les variables aliasées\n",
    "  alias_names <- rownames(alias_info)\n",
    "  price_pred <- price_pred[, !colnames(price_pred) %in% alias_names]\n",
    "}\n",
    "\n",
    "# Recalculer le modèle sans variables aliasées\n",
    "modele_omnibus <- lm(price ~ ., data = price_pred)\n",
    "\n",
    "# Étape 3 : Calculer le VIF\n",
    "tryCatch({\n",
    "  vif_values <- vif(modele_omnibus)\n",
    "  print(\"VIF initial :\")\n",
    "  print(vif_values)\n",
    "  \n",
    "  # Supprimer les variables avec VIF > 10\n",
    "  while (any(vif_values > 10)) {\n",
    "    # Supprimer la variable avec le VIF le plus élevé\n",
    "    variable_to_remove <- names(vif_values)[which.max(vif_values)]\n",
    "    print(paste(\"Suppression de la variable :\", variable_to_remove))\n",
    "    price_pred <- price_pred[, !colnames(price_pred) %in% variable_to_remove]\n",
    "    \n",
    "    # Recalculer le modèle et les VIF\n",
    "    modele_omnibus <- lm(price ~ ., data = price_pred)\n",
    "    vif_values <- vif(modele_omnibus)\n",
    "  }\n",
    "  \n",
    "  print(\"VIF final :\")\n",
    "  print(vif_values)\n",
    "}, error = function(e) {\n",
    "  print(\"Erreur dans le calcul du VIF, vérifier les données ou la structure du modèle.\")\n",
    "})"
   ]
  },
  {
   "cell_type": "code",
   "execution_count": 57,
   "metadata": {
    "vscode": {
     "languageId": "r"
    }
   },
   "outputs": [
    {
     "name": "stderr",
     "output_type": "stream",
     "text": [
      "Warning message:\n",
      "\"le package 'corrplot' a été compilé avec la version R 4.4.2\"\n",
      "corrplot 0.95 loaded\n",
      "\n"
     ]
    },
    {
     "data": {
      "image/png": "[encoded data removed]",
      "text/plain": [
       "Plot with title \"\""
      ]
     },
     "metadata": {
      "image/png": {
       "height": 420,
       "width": 420
      }
     },
     "output_type": "display_data"
    }
   ],
   "source": [
    "library(corrplot)\n",
    "# Sélectionner uniquement les variables numériques\n",
    "numeric_vars <- select_if(price_pred, is.numeric)\n",
    "\n",
    "# Calculer la matrice de corrélation\n",
    "cor_matrix <- cor(numeric_vars, use = \"complete.obs\")\n",
    "\n",
    "# Afficher le corrélogramme\n",
    "corrplot(cor_matrix, method = \"color\", order = \"hclust\", tl.cex = 0.7)\n"
   ]
  }
 ],
 "metadata": {
  "kernelspec": {
   "display_name": "R",
   "language": "R",
   "name": "ir"
  },
  "language_info": {
   "codemirror_mode": "r",
   "file_extension": ".r",
   "mimetype": "text/x-r-source",
   "name": "R",
   "pygments_lexer": "r",
   "version": "4.4.1"
  }
 },
 "nbformat": 4,
 "nbformat_minor": 2
}
